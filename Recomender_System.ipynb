{
 "cells": [
  {
   "cell_type": "code",
   "execution_count": 1,
   "metadata": {},
   "outputs": [],
   "source": [
    "import numpy as np\n",
    "import pandas as pd\n",
    "import matplotlib.pyplot as plt\n",
    "import os"
   ]
  },
  {
   "cell_type": "code",
   "execution_count": 2,
   "metadata": {},
   "outputs": [],
   "source": [
    "## Reading data\n",
    "movies = pd.read_csv('Data_Base/10000_Movies_Data.csv')\n",
    "credits = pd.read_csv('Data_Base/10000_Credits_Data.csv')"
   ]
  },
  {
   "cell_type": "code",
   "execution_count": 69,
   "metadata": {},
   "outputs": [
    {
     "data": {
      "text/html": [
       "<div>\n",
       "<style scoped>\n",
       "    .dataframe tbody tr th:only-of-type {\n",
       "        vertical-align: middle;\n",
       "    }\n",
       "\n",
       "    .dataframe tbody tr th {\n",
       "        vertical-align: top;\n",
       "    }\n",
       "\n",
       "    .dataframe thead th {\n",
       "        text-align: right;\n",
       "    }\n",
       "</style>\n",
       "<table border=\"1\" class=\"dataframe\">\n",
       "  <thead>\n",
       "    <tr style=\"text-align: right;\">\n",
       "      <th></th>\n",
       "      <th>Unnamed: 0</th>\n",
       "      <th>Movie_id</th>\n",
       "      <th>title</th>\n",
       "      <th>Genres</th>\n",
       "      <th>release_date</th>\n",
       "      <th>Keywords</th>\n",
       "      <th>overview</th>\n",
       "      <th>poster_path</th>\n",
       "      <th>Budget</th>\n",
       "      <th>Revenue</th>\n",
       "      <th>popularity</th>\n",
       "      <th>vote_average</th>\n",
       "      <th>vote_count</th>\n",
       "    </tr>\n",
       "  </thead>\n",
       "  <tbody>\n",
       "    <tr>\n",
       "      <th>0</th>\n",
       "      <td>0</td>\n",
       "      <td>238</td>\n",
       "      <td>The Godfather</td>\n",
       "      <td>[{'id': 18, 'name': 'Drama'}, {'id': 80, 'name...</td>\n",
       "      <td>1972-03-14</td>\n",
       "      <td>[{'id': 131, 'name': 'italy'}, {'id': 697, 'na...</td>\n",
       "      <td>Spanning the years 1945 to 1955, a chronicle o...</td>\n",
       "      <td>/3bhkrj58Vtu7enYsRolD1fZdja1.jpg</td>\n",
       "      <td>245066411</td>\n",
       "      <td>245066411</td>\n",
       "      <td>93.552</td>\n",
       "      <td>8.7</td>\n",
       "      <td>16814</td>\n",
       "    </tr>\n",
       "    <tr>\n",
       "      <th>1</th>\n",
       "      <td>1</td>\n",
       "      <td>278</td>\n",
       "      <td>The Shawshank Redemption</td>\n",
       "      <td>[{'id': 18, 'name': 'Drama'}, {'id': 80, 'name...</td>\n",
       "      <td>1994-09-23</td>\n",
       "      <td>[{'id': 378, 'name': 'prison'}, {'id': 417, 'n...</td>\n",
       "      <td>Framed in the 1940s for the double murder of h...</td>\n",
       "      <td>/q6y0Go1tsGEsmtFryDOJo3dEmqu.jpg</td>\n",
       "      <td>28341469</td>\n",
       "      <td>28341469</td>\n",
       "      <td>78.664</td>\n",
       "      <td>8.7</td>\n",
       "      <td>22542</td>\n",
       "    </tr>\n",
       "  </tbody>\n",
       "</table>\n",
       "</div>"
      ],
      "text/plain": [
       "   Unnamed: 0  Movie_id                     title  \\\n",
       "0           0       238             The Godfather   \n",
       "1           1       278  The Shawshank Redemption   \n",
       "\n",
       "                                              Genres release_date  \\\n",
       "0  [{'id': 18, 'name': 'Drama'}, {'id': 80, 'name...   1972-03-14   \n",
       "1  [{'id': 18, 'name': 'Drama'}, {'id': 80, 'name...   1994-09-23   \n",
       "\n",
       "                                            Keywords  \\\n",
       "0  [{'id': 131, 'name': 'italy'}, {'id': 697, 'na...   \n",
       "1  [{'id': 378, 'name': 'prison'}, {'id': 417, 'n...   \n",
       "\n",
       "                                            overview  \\\n",
       "0  Spanning the years 1945 to 1955, a chronicle o...   \n",
       "1  Framed in the 1940s for the double murder of h...   \n",
       "\n",
       "                        poster_path     Budget    Revenue  popularity  \\\n",
       "0  /3bhkrj58Vtu7enYsRolD1fZdja1.jpg  245066411  245066411      93.552   \n",
       "1  /q6y0Go1tsGEsmtFryDOJo3dEmqu.jpg   28341469   28341469      78.664   \n",
       "\n",
       "   vote_average  vote_count  \n",
       "0           8.7       16814  \n",
       "1           8.7       22542  "
      ]
     },
     "execution_count": 69,
     "metadata": {},
     "output_type": "execute_result"
    }
   ],
   "source": [
    "movies.head(2)"
   ]
  },
  {
   "cell_type": "code",
   "execution_count": 70,
   "metadata": {},
   "outputs": [
    {
     "data": {
      "text/html": [
       "<div>\n",
       "<style scoped>\n",
       "    .dataframe tbody tr th:only-of-type {\n",
       "        vertical-align: middle;\n",
       "    }\n",
       "\n",
       "    .dataframe tbody tr th {\n",
       "        vertical-align: top;\n",
       "    }\n",
       "\n",
       "    .dataframe thead th {\n",
       "        text-align: right;\n",
       "    }\n",
       "</style>\n",
       "<table border=\"1\" class=\"dataframe\">\n",
       "  <thead>\n",
       "    <tr style=\"text-align: right;\">\n",
       "      <th></th>\n",
       "      <th>Unnamed: 0</th>\n",
       "      <th>Movie_id</th>\n",
       "      <th>title</th>\n",
       "      <th>Cast</th>\n",
       "      <th>Crew</th>\n",
       "    </tr>\n",
       "  </thead>\n",
       "  <tbody>\n",
       "    <tr>\n",
       "      <th>0</th>\n",
       "      <td>0</td>\n",
       "      <td>238</td>\n",
       "      <td>The Godfather</td>\n",
       "      <td>[{'adult': False, 'gender': 2, 'id': 3084, 'kn...</td>\n",
       "      <td>[{'adult': False, 'gender': 2, 'id': 154, 'kno...</td>\n",
       "    </tr>\n",
       "    <tr>\n",
       "      <th>1</th>\n",
       "      <td>1</td>\n",
       "      <td>278</td>\n",
       "      <td>The Shawshank Redemption</td>\n",
       "      <td>[{'adult': False, 'gender': 2, 'id': 504, 'kno...</td>\n",
       "      <td>[{'adult': False, 'gender': 2, 'id': 153, 'kno...</td>\n",
       "    </tr>\n",
       "  </tbody>\n",
       "</table>\n",
       "</div>"
      ],
      "text/plain": [
       "   Unnamed: 0  Movie_id                     title  \\\n",
       "0           0       238             The Godfather   \n",
       "1           1       278  The Shawshank Redemption   \n",
       "\n",
       "                                                Cast  \\\n",
       "0  [{'adult': False, 'gender': 2, 'id': 3084, 'kn...   \n",
       "1  [{'adult': False, 'gender': 2, 'id': 504, 'kno...   \n",
       "\n",
       "                                                Crew  \n",
       "0  [{'adult': False, 'gender': 2, 'id': 154, 'kno...  \n",
       "1  [{'adult': False, 'gender': 2, 'id': 153, 'kno...  "
      ]
     },
     "execution_count": 70,
     "metadata": {},
     "output_type": "execute_result"
    }
   ],
   "source": [
    "credits.head(2)"
   ]
  },
  {
   "cell_type": "code",
   "execution_count": 71,
   "metadata": {},
   "outputs": [
    {
     "data": {
      "text/plain": [
       "(9980, 13)"
      ]
     },
     "execution_count": 71,
     "metadata": {},
     "output_type": "execute_result"
    }
   ],
   "source": [
    "movies.shape"
   ]
  },
  {
   "cell_type": "code",
   "execution_count": 72,
   "metadata": {},
   "outputs": [
    {
     "data": {
      "text/plain": [
       "(9980, 5)"
      ]
     },
     "execution_count": 72,
     "metadata": {},
     "output_type": "execute_result"
    }
   ],
   "source": [
    "credits.shape"
   ]
  },
  {
   "cell_type": "code",
   "execution_count": 73,
   "metadata": {},
   "outputs": [
    {
     "data": {
      "text/html": [
       "<div>\n",
       "<style scoped>\n",
       "    .dataframe tbody tr th:only-of-type {\n",
       "        vertical-align: middle;\n",
       "    }\n",
       "\n",
       "    .dataframe tbody tr th {\n",
       "        vertical-align: top;\n",
       "    }\n",
       "\n",
       "    .dataframe thead th {\n",
       "        text-align: right;\n",
       "    }\n",
       "</style>\n",
       "<table border=\"1\" class=\"dataframe\">\n",
       "  <thead>\n",
       "    <tr style=\"text-align: right;\">\n",
       "      <th></th>\n",
       "      <th>Unnamed: 0_x</th>\n",
       "      <th>Movie_id_x</th>\n",
       "      <th>title</th>\n",
       "      <th>Genres</th>\n",
       "      <th>release_date</th>\n",
       "      <th>Keywords</th>\n",
       "      <th>overview</th>\n",
       "      <th>poster_path</th>\n",
       "      <th>Budget</th>\n",
       "      <th>Revenue</th>\n",
       "      <th>popularity</th>\n",
       "      <th>vote_average</th>\n",
       "      <th>vote_count</th>\n",
       "      <th>Unnamed: 0_y</th>\n",
       "      <th>Movie_id_y</th>\n",
       "      <th>Cast</th>\n",
       "      <th>Crew</th>\n",
       "    </tr>\n",
       "  </thead>\n",
       "  <tbody>\n",
       "    <tr>\n",
       "      <th>0</th>\n",
       "      <td>0</td>\n",
       "      <td>238</td>\n",
       "      <td>The Godfather</td>\n",
       "      <td>[{'id': 18, 'name': 'Drama'}, {'id': 80, 'name...</td>\n",
       "      <td>1972-03-14</td>\n",
       "      <td>[{'id': 131, 'name': 'italy'}, {'id': 697, 'na...</td>\n",
       "      <td>Spanning the years 1945 to 1955, a chronicle o...</td>\n",
       "      <td>/3bhkrj58Vtu7enYsRolD1fZdja1.jpg</td>\n",
       "      <td>245066411</td>\n",
       "      <td>245066411</td>\n",
       "      <td>93.552</td>\n",
       "      <td>8.7</td>\n",
       "      <td>16814</td>\n",
       "      <td>0</td>\n",
       "      <td>238</td>\n",
       "      <td>[{'adult': False, 'gender': 2, 'id': 3084, 'kn...</td>\n",
       "      <td>[{'adult': False, 'gender': 2, 'id': 154, 'kno...</td>\n",
       "    </tr>\n",
       "    <tr>\n",
       "      <th>1</th>\n",
       "      <td>1</td>\n",
       "      <td>278</td>\n",
       "      <td>The Shawshank Redemption</td>\n",
       "      <td>[{'id': 18, 'name': 'Drama'}, {'id': 80, 'name...</td>\n",
       "      <td>1994-09-23</td>\n",
       "      <td>[{'id': 378, 'name': 'prison'}, {'id': 417, 'n...</td>\n",
       "      <td>Framed in the 1940s for the double murder of h...</td>\n",
       "      <td>/q6y0Go1tsGEsmtFryDOJo3dEmqu.jpg</td>\n",
       "      <td>28341469</td>\n",
       "      <td>28341469</td>\n",
       "      <td>78.664</td>\n",
       "      <td>8.7</td>\n",
       "      <td>22542</td>\n",
       "      <td>1</td>\n",
       "      <td>278</td>\n",
       "      <td>[{'adult': False, 'gender': 2, 'id': 504, 'kno...</td>\n",
       "      <td>[{'adult': False, 'gender': 2, 'id': 153, 'kno...</td>\n",
       "    </tr>\n",
       "  </tbody>\n",
       "</table>\n",
       "</div>"
      ],
      "text/plain": [
       "   Unnamed: 0_x  Movie_id_x                     title  \\\n",
       "0             0         238             The Godfather   \n",
       "1             1         278  The Shawshank Redemption   \n",
       "\n",
       "                                              Genres release_date  \\\n",
       "0  [{'id': 18, 'name': 'Drama'}, {'id': 80, 'name...   1972-03-14   \n",
       "1  [{'id': 18, 'name': 'Drama'}, {'id': 80, 'name...   1994-09-23   \n",
       "\n",
       "                                            Keywords  \\\n",
       "0  [{'id': 131, 'name': 'italy'}, {'id': 697, 'na...   \n",
       "1  [{'id': 378, 'name': 'prison'}, {'id': 417, 'n...   \n",
       "\n",
       "                                            overview  \\\n",
       "0  Spanning the years 1945 to 1955, a chronicle o...   \n",
       "1  Framed in the 1940s for the double murder of h...   \n",
       "\n",
       "                        poster_path     Budget    Revenue  popularity  \\\n",
       "0  /3bhkrj58Vtu7enYsRolD1fZdja1.jpg  245066411  245066411      93.552   \n",
       "1  /q6y0Go1tsGEsmtFryDOJo3dEmqu.jpg   28341469   28341469      78.664   \n",
       "\n",
       "   vote_average  vote_count  Unnamed: 0_y  Movie_id_y  \\\n",
       "0           8.7       16814             0         238   \n",
       "1           8.7       22542             1         278   \n",
       "\n",
       "                                                Cast  \\\n",
       "0  [{'adult': False, 'gender': 2, 'id': 3084, 'kn...   \n",
       "1  [{'adult': False, 'gender': 2, 'id': 504, 'kno...   \n",
       "\n",
       "                                                Crew  \n",
       "0  [{'adult': False, 'gender': 2, 'id': 154, 'kno...  \n",
       "1  [{'adult': False, 'gender': 2, 'id': 153, 'kno...  "
      ]
     },
     "execution_count": 73,
     "metadata": {},
     "output_type": "execute_result"
    }
   ],
   "source": [
    "## Merging movies and credits data set \n",
    "movies = movies.merge(credits,on='title')\n",
    "movies.head(2)"
   ]
  },
  {
   "cell_type": "code",
   "execution_count": 74,
   "metadata": {},
   "outputs": [
    {
     "data": {
      "text/plain": [
       "(10710, 17)"
      ]
     },
     "execution_count": 74,
     "metadata": {},
     "output_type": "execute_result"
    }
   ],
   "source": [
    "movies.shape"
   ]
  },
  {
   "cell_type": "code",
   "execution_count": 75,
   "metadata": {},
   "outputs": [
    {
     "data": {
      "text/plain": [
       "Index(['Unnamed: 0_x', 'Movie_id_x', 'title', 'Genres', 'release_date',\n",
       "       'Keywords', 'overview', 'poster_path', 'Budget', 'Revenue',\n",
       "       'popularity', 'vote_average', 'vote_count', 'Unnamed: 0_y',\n",
       "       'Movie_id_y', 'Cast', 'Crew'],\n",
       "      dtype='object')"
      ]
     },
     "execution_count": 75,
     "metadata": {},
     "output_type": "execute_result"
    }
   ],
   "source": [
    "movies.columns"
   ]
  },
  {
   "cell_type": "code",
   "execution_count": 76,
   "metadata": {},
   "outputs": [],
   "source": [
    "## Dropping unnecessary columns\n",
    "movies = movies[['Movie_id_x','title','overview','Genres','Keywords','Cast','Crew']]"
   ]
  },
  {
   "cell_type": "code",
   "execution_count": 77,
   "metadata": {},
   "outputs": [
    {
     "data": {
      "text/html": [
       "<div>\n",
       "<style scoped>\n",
       "    .dataframe tbody tr th:only-of-type {\n",
       "        vertical-align: middle;\n",
       "    }\n",
       "\n",
       "    .dataframe tbody tr th {\n",
       "        vertical-align: top;\n",
       "    }\n",
       "\n",
       "    .dataframe thead th {\n",
       "        text-align: right;\n",
       "    }\n",
       "</style>\n",
       "<table border=\"1\" class=\"dataframe\">\n",
       "  <thead>\n",
       "    <tr style=\"text-align: right;\">\n",
       "      <th></th>\n",
       "      <th>Movie_id_x</th>\n",
       "      <th>title</th>\n",
       "      <th>overview</th>\n",
       "      <th>Genres</th>\n",
       "      <th>Keywords</th>\n",
       "      <th>Cast</th>\n",
       "      <th>Crew</th>\n",
       "    </tr>\n",
       "  </thead>\n",
       "  <tbody>\n",
       "    <tr>\n",
       "      <th>0</th>\n",
       "      <td>238</td>\n",
       "      <td>The Godfather</td>\n",
       "      <td>Spanning the years 1945 to 1955, a chronicle o...</td>\n",
       "      <td>[{'id': 18, 'name': 'Drama'}, {'id': 80, 'name...</td>\n",
       "      <td>[{'id': 131, 'name': 'italy'}, {'id': 697, 'na...</td>\n",
       "      <td>[{'adult': False, 'gender': 2, 'id': 3084, 'kn...</td>\n",
       "      <td>[{'adult': False, 'gender': 2, 'id': 154, 'kno...</td>\n",
       "    </tr>\n",
       "    <tr>\n",
       "      <th>1</th>\n",
       "      <td>278</td>\n",
       "      <td>The Shawshank Redemption</td>\n",
       "      <td>Framed in the 1940s for the double murder of h...</td>\n",
       "      <td>[{'id': 18, 'name': 'Drama'}, {'id': 80, 'name...</td>\n",
       "      <td>[{'id': 378, 'name': 'prison'}, {'id': 417, 'n...</td>\n",
       "      <td>[{'adult': False, 'gender': 2, 'id': 504, 'kno...</td>\n",
       "      <td>[{'adult': False, 'gender': 2, 'id': 153, 'kno...</td>\n",
       "    </tr>\n",
       "  </tbody>\n",
       "</table>\n",
       "</div>"
      ],
      "text/plain": [
       "   Movie_id_x                     title  \\\n",
       "0         238             The Godfather   \n",
       "1         278  The Shawshank Redemption   \n",
       "\n",
       "                                            overview  \\\n",
       "0  Spanning the years 1945 to 1955, a chronicle o...   \n",
       "1  Framed in the 1940s for the double murder of h...   \n",
       "\n",
       "                                              Genres  \\\n",
       "0  [{'id': 18, 'name': 'Drama'}, {'id': 80, 'name...   \n",
       "1  [{'id': 18, 'name': 'Drama'}, {'id': 80, 'name...   \n",
       "\n",
       "                                            Keywords  \\\n",
       "0  [{'id': 131, 'name': 'italy'}, {'id': 697, 'na...   \n",
       "1  [{'id': 378, 'name': 'prison'}, {'id': 417, 'n...   \n",
       "\n",
       "                                                Cast  \\\n",
       "0  [{'adult': False, 'gender': 2, 'id': 3084, 'kn...   \n",
       "1  [{'adult': False, 'gender': 2, 'id': 504, 'kno...   \n",
       "\n",
       "                                                Crew  \n",
       "0  [{'adult': False, 'gender': 2, 'id': 154, 'kno...  \n",
       "1  [{'adult': False, 'gender': 2, 'id': 153, 'kno...  "
      ]
     },
     "execution_count": 77,
     "metadata": {},
     "output_type": "execute_result"
    }
   ],
   "source": [
    "movies.head(2)"
   ]
  },
  {
   "cell_type": "code",
   "execution_count": 78,
   "metadata": {},
   "outputs": [
    {
     "data": {
      "text/plain": [
       "(10710, 7)"
      ]
     },
     "execution_count": 78,
     "metadata": {},
     "output_type": "execute_result"
    }
   ],
   "source": [
    "movies.shape"
   ]
  },
  {
   "cell_type": "code",
   "execution_count": 79,
   "metadata": {},
   "outputs": [
    {
     "data": {
      "text/plain": [
       "Movie_id_x    0\n",
       "title         0\n",
       "overview      6\n",
       "Genres        0\n",
       "Keywords      0\n",
       "Cast          0\n",
       "Crew          0\n",
       "dtype: int64"
      ]
     },
     "execution_count": 79,
     "metadata": {},
     "output_type": "execute_result"
    }
   ],
   "source": [
    "## Removing null values\n",
    "movies.isnull().sum()   "
   ]
  },
  {
   "cell_type": "code",
   "execution_count": 80,
   "metadata": {},
   "outputs": [],
   "source": [
    "## Dropping null values in place\n",
    "movies.dropna(inplace=True)"
   ]
  },
  {
   "cell_type": "code",
   "execution_count": 81,
   "metadata": {},
   "outputs": [
    {
     "data": {
      "text/plain": [
       "np.int64(0)"
      ]
     },
     "execution_count": 81,
     "metadata": {},
     "output_type": "execute_result"
    }
   ],
   "source": [
    "## Checking for duplicates\n",
    "movies.duplicated().sum()"
   ]
  },
  {
   "cell_type": "code",
   "execution_count": 82,
   "metadata": {},
   "outputs": [
    {
     "data": {
      "text/plain": [
       "str"
      ]
     },
     "execution_count": 82,
     "metadata": {},
     "output_type": "execute_result"
    }
   ],
   "source": [
    "## Converting string to list\n",
    "## iloc[] is an indexer used for integer-location-based indexing of data in a DataFrame. It allows users to select specific rows and columns by providing integer indices, making it a valuable tool for data manipulation and extraction based on numerical positions within the DataFrame.\n",
    "type(movies.iloc[0]['Genres'])"
   ]
  },
  {
   "cell_type": "code",
   "execution_count": 83,
   "metadata": {},
   "outputs": [
    {
     "data": {
      "text/plain": [
       "\"[{'id': 18, 'name': 'Drama'}, {'id': 80, 'name': 'Crime'}]\""
      ]
     },
     "execution_count": 83,
     "metadata": {},
     "output_type": "execute_result"
    }
   ],
   "source": [
    "movies.iloc[0]['Genres']"
   ]
  },
  {
   "cell_type": "code",
   "execution_count": 84,
   "metadata": {},
   "outputs": [],
   "source": [
    "## The ast (Abstract Syntax Tree) is use to convert string that contains list or disctionary to list\n",
    "## Example -> if you have a string \"[1, 2, 3]\", ast.literal_eval() will convert it into the real Python list [1, 2, 3].\n",
    "import ast \n",
    "\n",
    "def convert(text):\n",
    "    list = []\n",
    "    for i in ast.literal_eval(text):\n",
    "        list.append(i['name'])\n",
    "    return list\n"
   ]
  },
  {
   "cell_type": "code",
   "execution_count": 85,
   "metadata": {},
   "outputs": [],
   "source": [
    "## Applying convert function to whole Genres column\n",
    "movies['Genres'] = movies['Genres'].apply(convert)"
   ]
  },
  {
   "cell_type": "code",
   "execution_count": 86,
   "metadata": {},
   "outputs": [
    {
     "data": {
      "text/plain": [
       "\"[{'id': 131, 'name': 'italy'}, {'id': 697, 'name': 'loss of loved one'}, {'id': 699, 'name': 'love at first sight'}, {'id': 818, 'name': 'based on novel or book'}, {'id': 1295, 'name': 'europe'}, {'id': 1715, 'name': 'symbolism'}, {'id': 4677, 'name': 'patriarch'}, {'id': 10291, 'name': 'organized crime'}, {'id': 10391, 'name': 'mafia'}, {'id': 10909, 'name': 'lawyer'}, {'id': 11001, 'name': 'religion'}, {'id': 15095, 'name': 'revenge motive'}, {'id': 33421, 'name': 'crime family'}, {'id': 155538, 'name': 'sicilian mafia'}, {'id': 156043, 'name': 'religious hypocrisy'}, {'id': 163656, 'name': 'gun violence'}, {'id': 165725, 'name': 'rise to power'}, {'id': 180173, 'name': 'dead horse'}, {'id': 181858, 'name': 'gang violence'}, {'id': 207883, 'name': '1940s'}, {'id': 208611, 'name': '1950s'}, {'id': 257630, 'name': 'mafia war'}, {'id': 295351, 'name': 'part of trilogy'}]\""
      ]
     },
     "execution_count": 86,
     "metadata": {},
     "output_type": "execute_result"
    }
   ],
   "source": [
    "movies.iloc[0]['Keywords']"
   ]
  },
  {
   "cell_type": "code",
   "execution_count": 87,
   "metadata": {},
   "outputs": [],
   "source": [
    "movies['Keywords'] = movies['Keywords'].apply(convert)"
   ]
  },
  {
   "cell_type": "code",
   "execution_count": 88,
   "metadata": {},
   "outputs": [
    {
     "data": {
      "text/html": [
       "<div>\n",
       "<style scoped>\n",
       "    .dataframe tbody tr th:only-of-type {\n",
       "        vertical-align: middle;\n",
       "    }\n",
       "\n",
       "    .dataframe tbody tr th {\n",
       "        vertical-align: top;\n",
       "    }\n",
       "\n",
       "    .dataframe thead th {\n",
       "        text-align: right;\n",
       "    }\n",
       "</style>\n",
       "<table border=\"1\" class=\"dataframe\">\n",
       "  <thead>\n",
       "    <tr style=\"text-align: right;\">\n",
       "      <th></th>\n",
       "      <th>Movie_id_x</th>\n",
       "      <th>title</th>\n",
       "      <th>overview</th>\n",
       "      <th>Genres</th>\n",
       "      <th>Keywords</th>\n",
       "      <th>Cast</th>\n",
       "      <th>Crew</th>\n",
       "    </tr>\n",
       "  </thead>\n",
       "  <tbody>\n",
       "    <tr>\n",
       "      <th>0</th>\n",
       "      <td>238</td>\n",
       "      <td>The Godfather</td>\n",
       "      <td>Spanning the years 1945 to 1955, a chronicle o...</td>\n",
       "      <td>[Drama, Crime]</td>\n",
       "      <td>[italy, loss of loved one, love at first sight...</td>\n",
       "      <td>[{'adult': False, 'gender': 2, 'id': 3084, 'kn...</td>\n",
       "      <td>[{'adult': False, 'gender': 2, 'id': 154, 'kno...</td>\n",
       "    </tr>\n",
       "    <tr>\n",
       "      <th>1</th>\n",
       "      <td>278</td>\n",
       "      <td>The Shawshank Redemption</td>\n",
       "      <td>Framed in the 1940s for the double murder of h...</td>\n",
       "      <td>[Drama, Crime]</td>\n",
       "      <td>[prison, corruption, police brutality, based o...</td>\n",
       "      <td>[{'adult': False, 'gender': 2, 'id': 504, 'kno...</td>\n",
       "      <td>[{'adult': False, 'gender': 2, 'id': 153, 'kno...</td>\n",
       "    </tr>\n",
       "  </tbody>\n",
       "</table>\n",
       "</div>"
      ],
      "text/plain": [
       "   Movie_id_x                     title  \\\n",
       "0         238             The Godfather   \n",
       "1         278  The Shawshank Redemption   \n",
       "\n",
       "                                            overview          Genres  \\\n",
       "0  Spanning the years 1945 to 1955, a chronicle o...  [Drama, Crime]   \n",
       "1  Framed in the 1940s for the double murder of h...  [Drama, Crime]   \n",
       "\n",
       "                                            Keywords  \\\n",
       "0  [italy, loss of loved one, love at first sight...   \n",
       "1  [prison, corruption, police brutality, based o...   \n",
       "\n",
       "                                                Cast  \\\n",
       "0  [{'adult': False, 'gender': 2, 'id': 3084, 'kn...   \n",
       "1  [{'adult': False, 'gender': 2, 'id': 504, 'kno...   \n",
       "\n",
       "                                                Crew  \n",
       "0  [{'adult': False, 'gender': 2, 'id': 154, 'kno...  \n",
       "1  [{'adult': False, 'gender': 2, 'id': 153, 'kno...  "
      ]
     },
     "execution_count": 88,
     "metadata": {},
     "output_type": "execute_result"
    }
   ],
   "source": [
    "movies.head(2)"
   ]
  },
  {
   "cell_type": "code",
   "execution_count": 89,
   "metadata": {},
   "outputs": [
    {
     "data": {
      "text/plain": [
       "'[{\\'adult\\': False, \\'gender\\': 2, \\'id\\': 3084, \\'known_for_department\\': \\'Acting\\', \\'name\\': \\'Marlon Brando\\', \\'original_name\\': \\'Marlon Brando\\', \\'popularity\\': 15.274, \\'profile_path\\': \\'/fuTEPMsBtV1zE98ujPONbKiYDc2.jpg\\', \\'cast_id\\': 5, \\'character\\': \\'Don Vito Corleone\\', \\'credit_id\\': \\'52fe422bc3a36847f8009357\\', \\'order\\': 0}, {\\'adult\\': False, \\'gender\\': 2, \\'id\\': 1158, \\'known_for_department\\': \\'Acting\\', \\'name\\': \\'Al Pacino\\', \\'original_name\\': \\'Al Pacino\\', \\'popularity\\': 32.169, \\'profile_path\\': \\'/fMDFeVf0pjopTJbyRSLFwNDm8Wr.jpg\\', \\'cast_id\\': 6, \\'character\\': \\'Don Michael Corleone\\', \\'credit_id\\': \\'52fe422bc3a36847f800935b\\', \\'order\\': 1}, {\\'adult\\': False, \\'gender\\': 2, \\'id\\': 3085, \\'known_for_department\\': \\'Acting\\', \\'name\\': \\'James Caan\\', \\'original_name\\': \\'James Caan\\', \\'popularity\\': 23.916, \\'profile_path\\': \\'/bGyOCCOIgcIyKjOGLoXoyp0XWHf.jpg\\', \\'cast_id\\': 7, \\'character\\': \"Santino \\'Sonny\\' Corleone\", \\'credit_id\\': \\'52fe422bc3a36847f800935f\\', \\'order\\': 2}, {\\'adult\\': False, \\'gender\\': 2, \\'id\\': 3087, \\'known_for_department\\': \\'Acting\\', \\'name\\': \\'Robert Duvall\\', \\'original_name\\': \\'Robert Duvall\\', \\'popularity\\': 24.079, \\'profile_path\\': \\'/ybMmK25h4IVtfE7qrnlVp47RQlh.jpg\\', \\'cast_id\\': 9, \\'character\\': \\'Tom Hagen\\', \\'credit_id\\': \\'52fe422bc3a36847f8009367\\', \\'order\\': 3}, {\\'adult\\': False, \\'gender\\': 0, \\'id\\': 3086, \\'known_for_department\\': \\'Acting\\', \\'name\\': \\'Richard S. Castellano\\', \\'original_name\\': \\'Richard S. Castellano\\', \\'popularity\\': 10.388, \\'profile_path\\': \\'/1vr75BdHWret81vuSJ3ugiCBkxw.jpg\\', \\'cast_id\\': 8, \\'character\\': \\'Pete Clemenza\\', \\'credit_id\\': \\'52fe422bc3a36847f8009363\\', \\'order\\': 4}, {\\'adult\\': False, \\'gender\\': 1, \\'id\\': 3092, \\'known_for_department\\': \\'Acting\\', \\'name\\': \\'Diane Keaton\\', \\'original_name\\': \\'Diane Keaton\\', \\'popularity\\': 21.404, \\'profile_path\\': \\'/7gEdH5vGwpUpogscTb2JivnoRBb.jpg\\', \\'cast_id\\': 13, \\'character\\': \\'Kay Adams\\', \\'credit_id\\': \\'52fe422bc3a36847f8009377\\', \\'order\\': 5}, {\\'adult\\': False, \\'gender\\': 1, \\'id\\': 3094, \\'known_for_department\\': \\'Acting\\', \\'name\\': \\'Talia Shire\\', \\'original_name\\': \\'Talia Shire\\', \\'popularity\\': 14.677, \\'profile_path\\': \\'/due9MtmbvCMDd1aNveuMyjsaZ8W.jpg\\', \\'cast_id\\': 15, \\'character\\': \"Constanzia \\'Connie\\' Corleone-Rizzi\", \\'credit_id\\': \\'52fe422bc3a36847f800937f\\', \\'order\\': 6}, {\\'adult\\': False, \\'gender\\': 2, \\'id\\': 3095, \\'known_for_department\\': \\'Acting\\', \\'name\\': \\'Gianni Russo\\', \\'original_name\\': \\'Gianni Russo\\', \\'popularity\\': 8.099, \\'profile_path\\': \\'/5fjg2WPvuk1NvUpLyQ7aMJqOqy.jpg\\', \\'cast_id\\': 16, \\'character\\': \\'Carlo Rizzi\\', \\'credit_id\\': \\'52fe422bc3a36847f8009383\\', \\'order\\': 7}, {\\'adult\\': False, \\'gender\\': 2, \\'id\\': 3088, \\'known_for_department\\': \\'Acting\\', \\'name\\': \\'Sterling Hayden\\', \\'original_name\\': \\'Sterling Hayden\\', \\'popularity\\': 12.446, \\'profile_path\\': \\'/j1ExJbuBqBa6WEhPVW4J7YGFBWs.jpg\\', \\'cast_id\\': 10, \\'character\\': \\'Capt. Mark McCluskey\\', \\'credit_id\\': \\'52fe422bc3a36847f800936b\\', \\'order\\': 8}, {\\'adult\\': False, \\'gender\\': 2, \\'id\\': 3091, \\'known_for_department\\': \\'Acting\\', \\'name\\': \\'Al Lettieri\\', \\'original_name\\': \\'Al Lettieri\\', \\'popularity\\': 8.127, \\'profile_path\\': \\'/fE5mEWPkkVJlCji0EoKht8PYw89.jpg\\', \\'cast_id\\': 12, \\'character\\': \"Virgil \\'The Turk\\' Sollozzo\", \\'credit_id\\': \\'52fe422bc3a36847f8009373\\', \\'order\\': 9}, {\\'adult\\': False, \\'gender\\': 2, \\'id\\': 3093, \\'known_for_department\\': \\'Acting\\', \\'name\\': \\'Abe Vigoda\\', \\'original_name\\': \\'Abe Vigoda\\', \\'popularity\\': 6.822, \\'profile_path\\': \\'/luWKPNb58IgJ2ovrtgPAzHGLLYL.jpg\\', \\'cast_id\\': 14, \\'character\\': \"Salvatore \\'Sal\\' Tessio\", \\'credit_id\\': \\'52fe422bc3a36847f800937b\\', \\'order\\': 10}, {\\'adult\\': False, \\'gender\\': 2, \\'id\\': 3096, \\'known_for_department\\': \\'Acting\\', \\'name\\': \\'John Cazale\\', \\'original_name\\': \\'John Cazale\\', \\'popularity\\': 10.158, \\'profile_path\\': \\'/tRBImYIYk9tuR4fjJc8gHXC8ENj.jpg\\', \\'cast_id\\': 17, \\'character\\': \"Frederico \\'Fredo\\' Corleone\", \\'credit_id\\': \\'52fe422bc3a36847f8009387\\', \\'order\\': 11}, {\\'adult\\': False, \\'gender\\': 2, \\'id\\': 3090, \\'known_for_department\\': \\'Acting\\', \\'name\\': \\'Richard Conte\\', \\'original_name\\': \\'Richard Conte\\', \\'popularity\\': 9.971, \\'profile_path\\': \\'/pTTzNets0bgWAqx18D7by0hWUea.jpg\\', \\'cast_id\\': 11, \\'character\\': \\'Don Emilio Barzini\\', \\'credit_id\\': \\'52fe422bc3a36847f800936f\\', \\'order\\': 12}, {\\'adult\\': False, \\'gender\\': 2, \\'id\\': 3142, \\'known_for_department\\': \\'Acting\\', \\'name\\': \\'John Marley\\', \\'original_name\\': \\'John Marley\\', \\'popularity\\': 2.497, \\'profile_path\\': None, \\'cast_id\\': 33, \\'character\\': \\'Jack Woltz\\', \\'credit_id\\': \\'52fe422bc3a36847f800938b\\', \\'order\\': 13}, {\\'adult\\': False, \\'gender\\': 2, \\'id\\': 3143, \\'known_for_department\\': \\'Acting\\', \\'name\\': \\'Rudy Bond\\', \\'original_name\\': \\'Rudy Bond\\', \\'popularity\\': 1.948, \\'profile_path\\': \\'/kP77m6ot9dfOR2V3ykbyOAx2diK.jpg\\', \\'cast_id\\': 34, \\'character\\': \\'Carmine Cuneo\\', \\'credit_id\\': \\'52fe422bc3a36847f800938f\\', \\'order\\': 14}, {\\'adult\\': False, \\'gender\\': 2, \\'id\\': 3144, \\'known_for_department\\': \\'Acting\\', \\'name\\': \\'Al Martino\\', \\'original_name\\': \\'Al Martino\\', \\'popularity\\': 2.803, \\'profile_path\\': \\'/9luOyyiqWFNQgSOSStH66LTWZ3p.jpg\\', \\'cast_id\\': 35, \\'character\\': \\'Johnny Fontane\\', \\'credit_id\\': \\'52fe422bc3a36847f8009393\\', \\'order\\': 15}, {\\'adult\\': False, \\'gender\\': 1, \\'id\\': 933716, \\'known_for_department\\': \\'Acting\\', \\'name\\': \\'Morgana King\\', \\'original_name\\': \\'Morgana King\\', \\'popularity\\': 1.88, \\'profile_path\\': \\'/zPsFAqH4NXD7rMWl2Kj3rEyGrKj.jpg\\', \\'cast_id\\': 42, \\'character\\': \"Carmela \\'Mama\\' Corleone\", \\'credit_id\\': \\'52fe422bc3a36847f80093a7\\', \\'order\\': 16}, {\\'adult\\': False, \\'gender\\': 2, \\'id\\': 106811, \\'known_for_department\\': \\'Acting\\', \\'name\\': \\'Lenny Montana\\', \\'original_name\\': \\'Lenny Montana\\', \\'popularity\\': 3.293, \\'profile_path\\': \\'/3R52Zh3MBCaSPqmcyWcD1Y0N4wo.jpg\\', \\'cast_id\\': 45, \\'character\\': \\'Luca Brasi\\', \\'credit_id\\': \\'52fe422bc3a36847f80093b3\\', \\'order\\': 17}, {\\'adult\\': False, \\'gender\\': 2, \\'id\\': 99724, \\'known_for_department\\': \\'Acting\\', \\'name\\': \\'John Martino\\', \\'original_name\\': \\'John Martino\\', \\'popularity\\': 1.327, \\'profile_path\\': \\'/3c8BOgJ8UdHi5x5BS3lYnFngxB5.jpg\\', \\'cast_id\\': 47, \\'character\\': \\'Paulie Gatto\\', \\'credit_id\\': \\'52fe422bc3a36847f80093bb\\', \\'order\\': 18}, {\\'adult\\': False, \\'gender\\': 2, \\'id\\': 20752, \\'known_for_department\\': \\'Acting\\', \\'name\\': \\'Alex Rocco\\', \\'original_name\\': \\'Alex Rocco\\', \\'popularity\\': 5.939, \\'profile_path\\': \\'/u2JStL4Pk9Huq1xmrjqezfysivt.jpg\\', \\'cast_id\\': 41, \\'character\\': \\'Moe Greene\\', \\'credit_id\\': \\'52fe422bc3a36847f80093a3\\', \\'order\\': 19}, {\\'adult\\': False, \\'gender\\': 0, \\'id\\': 1195877, \\'known_for_department\\': \\'Acting\\', \\'name\\': \\'Salvatore Corsitto\\', \\'original_name\\': \\'Salvatore Corsitto\\', \\'popularity\\': 3.583, \\'profile_path\\': \\'/79OfgwtdP5qsR1UX6ERkrdmRT8c.jpg\\', \\'cast_id\\': 46, \\'character\\': \\'Amerigo Bonasera\\', \\'credit_id\\': \\'52fe422bc3a36847f80093b7\\', \\'order\\': 20}, {\\'adult\\': False, \\'gender\\': 2, \\'id\\': 3414, \\'known_for_department\\': \\'Acting\\', \\'name\\': \\'Tony Giorgio\\', \\'original_name\\': \\'Tony Giorgio\\', \\'popularity\\': 2.891, \\'profile_path\\': \\'/1uhgwgjoX7WaakEOBmtBRJKtgEB.jpg\\', \\'cast_id\\': 38, \\'character\\': \\'Bruno Tattaglia\\', \\'credit_id\\': \\'52fe422bc3a36847f800939f\\', \\'order\\': 21}, {\\'adult\\': False, \\'gender\\': 2, \\'id\\': 3413, \\'known_for_department\\': \\'Acting\\', \\'name\\': \\'Victor Rendina\\', \\'original_name\\': \\'Victor Rendina\\', \\'popularity\\': 3.206, \\'profile_path\\': \\'/vuNdsjDpgom80WBdB2WBTWuEIuM.jpg\\', \\'cast_id\\': 37, \\'character\\': \\'Philip Tattaglia\\', \\'credit_id\\': \\'52fe422bc3a36847f800939b\\', \\'order\\': 22}, {\\'adult\\': False, \\'gender\\': 1, \\'id\\': 3145, \\'known_for_department\\': \\'Acting\\', \\'name\\': \\'Simonetta Stefanelli\\', \\'original_name\\': \\'Simonetta Stefanelli\\', \\'popularity\\': 9.643, \\'profile_path\\': \\'/sVDrhgxuE6SHnj7q07OG6ywPUYR.jpg\\', \\'cast_id\\': 36, \\'character\\': \\'Apollonia Vitelli-Corleone\\', \\'credit_id\\': \\'52fe422bc3a36847f8009397\\', \\'order\\': 23}, {\\'adult\\': False, \\'gender\\': 2, \\'id\\': 119431, \\'known_for_department\\': \\'Acting\\', \\'name\\': \\'Saro Urzì\\', \\'original_name\\': \\'Saro Urzì\\', \\'popularity\\': 1.858, \\'profile_path\\': \\'/nPJytCpcNdG5ssPoKeEvxM6xifx.jpg\\', \\'cast_id\\': 48, \\'character\\': \\'Mr. Vitelli\\', \\'credit_id\\': \\'52fe422bc3a36847f80093bf\\', \\'order\\': 24}, {\\'adult\\': False, \\'gender\\': 1, \\'id\\': 1769, \\'known_for_department\\': \\'Directing\\', \\'name\\': \\'Sofia Coppola\\', \\'original_name\\': \\'Sofia Coppola\\', \\'popularity\\': 8.353, \\'profile_path\\': \\'/dzHC2LxmarkBxWLhjp2DRa5oCev.jpg\\', \\'cast_id\\': 43, \\'character\\': \\'Michael Francis Rizzi\\', \\'credit_id\\': \\'52fe422bc3a36847f80093ab\\', \\'order\\': 25}, {\\'adult\\': False, \\'gender\\': 2, \\'id\\': 20973, \\'known_for_department\\': \\'Acting\\', \\'name\\': \\'Louis Guss\\', \\'original_name\\': \\'Louis Guss\\', \\'popularity\\': 3.076, \\'profile_path\\': \\'/hz5Akuh4QcqitlifYwDiZ9ut6Tr.jpg\\', \\'cast_id\\': 44, \\'character\\': \\'Don Zaluchi\\', \\'credit_id\\': \\'52fe422bc3a36847f80093af\\', \\'order\\': 26}, {\\'adult\\': False, \\'gender\\': 2, \\'id\\': 3174, \\'known_for_department\\': \\'Acting\\', \\'name\\': \\'Richard Bright\\', \\'original_name\\': \\'Richard Bright\\', \\'popularity\\': 6.476, \\'profile_path\\': \\'/potMaJ2u5PRjXZb7qF9lSW1ldNZ.jpg\\', \\'cast_id\\': 70, \\'character\\': \\'Neri\\', \\'credit_id\\': \\'55be4cdbc3a3683921003065\\', \\'order\\': 27}, {\\'adult\\': False, \\'gender\\': 2, \\'id\\': 82779, \\'known_for_department\\': \\'Acting\\', \\'name\\': \\'Vito Scotti\\', \\'original_name\\': \\'Vito Scotti\\', \\'popularity\\': 5.8, \\'profile_path\\': \\'/zDGtXkASxpo3DzMNz6OI3NOp9v0.jpg\\', \\'cast_id\\': 71, \\'character\\': \\'Nazorine\\', \\'credit_id\\': \\'55be4cff9251413e49004a59\\', \\'order\\': 28}, {\\'adult\\': False, \\'gender\\': 1, \\'id\\': 982089, \\'known_for_department\\': \\'Acting\\', \\'name\\': \\'Tere Livrano\\', \\'original_name\\': \\'Tere Livrano\\', \\'popularity\\': 2.217, \\'profile_path\\': \\'/eBoC3425jmwRlsT2W8qUDsNwVXB.jpg\\', \\'cast_id\\': 72, \\'character\\': \\'Theresa Hagen\\', \\'credit_id\\': \\'55be4d40c3a368392100306d\\', \\'order\\': 29}, {\\'adult\\': False, \\'gender\\': 1, \\'id\\': 160728, \\'known_for_department\\': \\'Acting\\', \\'name\\': \\'Julie Gregg\\', \\'original_name\\': \\'Julie Gregg\\', \\'popularity\\': 2.669, \\'profile_path\\': \\'/8Kx71BnZNtpzb86jH7fcArWhJBh.jpg\\', \\'cast_id\\': 77, \\'character\\': \"Sandrinella \\'Sandra\\' Corleone\", \\'credit_id\\': \\'55ee4ac0c3a3686f170063c4\\', \\'order\\': 30}, {\\'adult\\': False, \\'gender\\': 2, \\'id\\': 27647, \\'known_for_department\\': \\'Acting\\', \\'name\\': \\'Angelo Infanti\\', \\'original_name\\': \\'Angelo Infanti\\', \\'popularity\\': 4.573, \\'profile_path\\': \\'/dkRVpiDj9YyiuM15XZKT11zZBIR.jpg\\', \\'cast_id\\': 74, \\'character\\': \\'Fabrizio\\', \\'credit_id\\': \\'55be4dffc3a368652600471c\\', \\'order\\': 31}, {\\'adult\\': False, \\'gender\\': 2, \\'id\\': 24604, \\'known_for_department\\': \\'Acting\\', \\'name\\': \\'Corrado Gaipa\\', \\'original_name\\': \\'Corrado Gaipa\\', \\'popularity\\': 2.558, \\'profile_path\\': \\'/7vR2BOdVw9FwJKjgpcisjKEytnL.jpg\\', \\'cast_id\\': 75, \\'character\\': \\'Don Tommasino\\', \\'credit_id\\': \\'55be4e2fc3a3686534005572\\', \\'order\\': 32}, {\\'adult\\': False, \\'gender\\': 2, \\'id\\': 44860, \\'known_for_department\\': \\'Acting\\', \\'name\\': \\'Franco Citti\\', \\'original_name\\': \\'Franco Citti\\', \\'popularity\\': 2.498, \\'profile_path\\': \\'/mttQPjOHaql4RKsfYriUA7HuROE.jpg\\', \\'cast_id\\': 76, \\'character\\': \\'Calò\\', \\'credit_id\\': \\'55be4e5bc3a3683921003083\\', \\'order\\': 33}, {\\'adult\\': False, \\'gender\\': 0, \\'id\\': 138211, \\'known_for_department\\': \\'Acting\\', \\'name\\': \\'Gabriele Torrei\\', \\'original_name\\': \\'Gabriele Torrei\\', \\'popularity\\': 2.653, \\'profile_path\\': \\'/x3KeYWTWX5SqZ3NuQGiWiadO4DI.jpg\\', \\'cast_id\\': 49, \\'character\\': \\'Enzo the Baker (uncredited)\\', \\'credit_id\\': \\'52fe422bc3a36847f80093c3\\', \\'order\\': 34}, {\\'adult\\': False, \\'gender\\': 2, \\'id\\': 55672, \\'known_for_department\\': \\'Acting\\', \\'name\\': \\'Tony King\\', \\'original_name\\': \\'Tony King\\', \\'popularity\\': 3.56, \\'profile_path\\': \\'/hOVVHEyc6euuuRhCLo6Q5YE4lLz.jpg\\', \\'cast_id\\': 69, \\'character\\': \\'Tony the Stablehand (uncredited)\\', \\'credit_id\\': \\'54de315fc3a3685446001351\\', \\'order\\': 35}, {\\'adult\\': False, \\'gender\\': 0, \\'id\\': 178006, \\'known_for_department\\': \\'Acting\\', \\'name\\': \\'Max Brandt\\', \\'original_name\\': \\'Max Brandt\\', \\'popularity\\': 0.991, \\'profile_path\\': None, \\'cast_id\\': 78, \\'character\\': \\'Extra in Furniture-Moving Scene (uncredited)\\', \\'credit_id\\': \\'55f1b3c992514167010020a7\\', \\'order\\': 36}, {\\'adult\\': False, \\'gender\\': 2, \\'id\\': 2872, \\'known_for_department\\': \\'Sound\\', \\'name\\': \\'Carmine Coppola\\', \\'original_name\\': \\'Carmine Coppola\\', \\'popularity\\': 2.829, \\'profile_path\\': \\'/iURpKXIgdtQoVCBQ8GKGvb0Qw5z.jpg\\', \\'cast_id\\': 79, \\'character\\': \\'Piano Player in Montage (uncredited)\\', \\'credit_id\\': \\'55f1b3ffc3a368230a00239f\\', \\'order\\': 37}, {\\'adult\\': False, \\'gender\\': 2, \\'id\\': 38803, \\'known_for_department\\': \\'Writing\\', \\'name\\': \\'Roman Coppola\\', \\'original_name\\': \\'Roman Coppola\\', \\'popularity\\': 4.894, \\'profile_path\\': \\'/rKamKkx78qjZTfvqi2OWCo5p6x5.jpg\\', \\'cast_id\\': 80, \\'character\\': \\'Boy on Street Who Attended Funeral (uncredited)\\', \\'credit_id\\': \\'55f1b452c3a36822f5002395\\', \\'order\\': 38}, {\\'adult\\': False, \\'gender\\': 0, \\'id\\': 1209294, \\'known_for_department\\': \\'Acting\\', \\'name\\': \\'Don Costello\\', \\'original_name\\': \\'Don Costello\\', \\'popularity\\': 1.38, \\'profile_path\\': None, \\'cast_id\\': 81, \\'character\\': \\'Don Victor Stracci (uncredited)\\', \\'credit_id\\': \\'55f1b4bac3a3682303002284\\', \\'order\\': 39}, {\\'adult\\': False, \\'gender\\': 2, \\'id\\': 1394703, \\'known_for_department\\': \\'Acting\\', \\'name\\': \\'Robert Dahdah\\', \\'original_name\\': \\'Robert Dahdah\\', \\'popularity\\': 0.6, \\'profile_path\\': None, \\'cast_id\\': 82, \\'character\\': \\'Crowd (uncredited)\\', \\'credit_id\\': \\'55f1b4de925141670d002392\\', \\'order\\': 40}, {\\'adult\\': False, \\'gender\\': 2, \\'id\\': 2870, \\'known_for_department\\': \\'Production\\', \\'name\\': \\'Gray Frederickson\\', \\'original_name\\': \\'Gray Frederickson\\', \\'popularity\\': 3.018, \\'profile_path\\': None, \\'cast_id\\': 83, \\'character\\': \"Cowboy on the Set at Woltz\\'s Studio (uncredited)\", \\'credit_id\\': \\'55f1b507925141670d00239a\\', \\'order\\': 41}, {\\'adult\\': False, \\'gender\\': 2, \\'id\\': 160621, \\'known_for_department\\': \\'Acting\\', \\'name\\': \\'Ron Gilbert\\', \\'original_name\\': \\'Ron Gilbert\\', \\'popularity\\': 0.783, \\'profile_path\\': \\'/qrY6w2k0YpuMB2yTCOv6cxeQtmw.jpg\\', \\'cast_id\\': 84, \\'character\\': \\'Usher in Bridal Party (uncredited)\\', \\'credit_id\\': \\'55f1b52f9251416711002211\\', \\'order\\': 42}, {\\'adult\\': False, \\'gender\\': 2, \\'id\\': 1233541, \\'known_for_department\\': \\'Acting\\', \\'name\\': \\'Sonny Grosso\\', \\'original_name\\': \\'Sonny Grosso\\', \\'popularity\\': 2.238, \\'profile_path\\': None, \\'cast_id\\': 87, \\'character\\': \\'Cop Outside Hospital (uncredited)\\', \\'credit_id\\': \\'55f1b5bb925141670100210a\\', \\'order\\': 43}, {\\'adult\\': False, \\'gender\\': 2, \\'id\\': 1503036, \\'known_for_department\\': \\'Acting\\', \\'name\\': \\'Joe Lo Grippo\\', \\'original_name\\': \\'Joe Lo Grippo\\', \\'popularity\\': 0.6, \\'profile_path\\': None, \\'cast_id\\': 86, \\'character\\': \"Sonny\\'s Bodyguard (uncredited)\", \\'credit_id\\': \\'55f1b59dc3a3683bec00231e\\', \\'order\\': 44}, {\\'adult\\': False, \\'gender\\': 2, \\'id\\': 1068099, \\'known_for_department\\': \\'Acting\\', \\'name\\': \\'Randy Jurgensen\\', \\'original_name\\': \\'Randy Jurgensen\\', \\'popularity\\': 0.786, \\'profile_path\\': \\'/xRoN79wRLndTMCJoaBSsdjQVIzI.jpg\\', \\'cast_id\\': 89, \\'character\\': \"Sonny\\'s Killer #1 (uncredited)\", \\'credit_id\\': \\'55f1b61ec3a3683bec002335\\', \\'order\\': 45}, {\\'adult\\': False, \\'gender\\': 2, \\'id\\': 61241, \\'known_for_department\\': \\'Acting\\', \\'name\\': \\'Tony Lip\\', \\'original_name\\': \\'Tony Lip\\', \\'popularity\\': 7.085, \\'profile_path\\': \\'/6xz6XmjgiCCOm067OzWYziD4Mxa.jpg\\', \\'cast_id\\': 90, \\'character\\': \\'Wedding Guest (uncredited)\\', \\'credit_id\\': \\'55f1b685c3a36823070023b6\\', \\'order\\': 46}, {\\'adult\\': False, \\'gender\\': 2, \\'id\\': 106187, \\'known_for_department\\': \\'Acting\\', \\'name\\': \\'Lou Martini Jr.\\', \\'original_name\\': \\'Lou Martini Jr.\\', \\'popularity\\': 1.631, \\'profile_path\\': \\'/85s5KR0BA6dhMJtOrvtKGY8Bz8E.jpg\\', \\'cast_id\\': 91, \\'character\\': \\'Boy at Wedding (uncredited)\\', \\'credit_id\\': \\'55f1b6c39251416701002141\\', \\'order\\': 47}, {\\'adult\\': False, \\'gender\\': 2, \\'id\\': 100503, \\'known_for_department\\': \\'Acting\\', \\'name\\': \\'Raymond Martino\\', \\'original_name\\': \\'Raymond Martino\\', \\'popularity\\': 1.135, \\'profile_path\\': None, \\'cast_id\\': 92, \\'character\\': \\'Corleone Family Member (uncredited)\\', \\'credit_id\\': \\'55f1b6e59251416711002257\\', \\'order\\': 48}, {\\'adult\\': False, \\'gender\\': 2, \\'id\\': 1503035, \\'known_for_department\\': \\'Acting\\', \\'name\\': \\'Joseph Medaglia\\', \\'original_name\\': \\'Joseph Medaglia\\', \\'popularity\\': 1.667, \\'profile_path\\': None, \\'cast_id\\': 93, \\'character\\': \\'Priest at Baptism (uncredited)\\', \\'credit_id\\': \\'55f1b73dc3a3685eb80005f7\\', \\'order\\': 49}, {\\'adult\\': False, \\'gender\\': 0, \\'id\\': 1290895, \\'known_for_department\\': \\'Acting\\', \\'name\\': \\'Rick Petrucelli\\', \\'original_name\\': \\'Rick Petrucelli\\', \\'popularity\\': 1.597, \\'profile_path\\': None, \\'cast_id\\': 94, \\'character\\': \\'Man in Passenger Seat (uncredited)\\', \\'credit_id\\': \\'55f1b769925141671400218e\\', \\'order\\': 50}, {\\'adult\\': False, \\'gender\\': 0, \\'id\\': 1237372, \\'known_for_department\\': \\'Acting\\', \\'name\\': \\'Sal Richards\\', \\'original_name\\': \\'Sal Richards\\', \\'popularity\\': 1.16, \\'profile_path\\': \\'/gZSiZOtBVv1U4hqjlKkPr2p5rCP.jpg\\', \\'cast_id\\': 95, \\'character\\': \\'Drunk (uncredited)\\', \\'credit_id\\': \\'55f1b7c29251410d6d000acb\\', \\'order\\': 51}, {\\'adult\\': False, \\'gender\\': 2, \\'id\\': 1213795, \\'known_for_department\\': \\'Acting\\', \\'name\\': \\'Tom Rosqui\\', \\'original_name\\': \\'Tom Rosqui\\', \\'popularity\\': 3.503, \\'profile_path\\': None, \\'cast_id\\': 96, \\'character\\': \\'Rocco Lampone (uncredited)\\', \\'credit_id\\': \\'55f1b7e2925141670d00243a\\', \\'order\\': 52}, {\\'adult\\': False, \\'gender\\': 2, \\'id\\': 11480, \\'known_for_department\\': \\'Acting\\', \\'name\\': \\'Frank Sivero\\', \\'original_name\\': \\'Frank Sivero\\', \\'popularity\\': 4.499, \\'profile_path\\': \\'/eqvhj0iNtcsN6EJhd21Goqi1DSq.jpg\\', \\'cast_id\\': 97, \\'character\\': \\'Street Extra (uncredited)\\', \\'credit_id\\': \\'55f1b81092514167140021b1\\', \\'order\\': 53}, {\\'adult\\': False, \\'gender\\': 0, \\'id\\': 1209678, \\'known_for_department\\': \\'Acting\\', \\'name\\': \\'Filomena Spagnuolo\\', \\'original_name\\': \\'Filomena Spagnuolo\\', \\'popularity\\': 0.6, \\'profile_path\\': None, \\'cast_id\\': 98, \\'character\\': \\'Extra in Wedding Scene (uncredited)\\', \\'credit_id\\': \\'55f1b83592514167140021c1\\', \\'order\\': 54}, {\\'adult\\': False, \\'gender\\': 2, \\'id\\': 78336, \\'known_for_department\\': \\'Directing\\', \\'name\\': \\'Nick Vallelonga\\', \\'original_name\\': \\'Nick Vallelonga\\', \\'popularity\\': 8.561, \\'profile_path\\': \\'/h0GwAHN1J5lDysqgWxMIg66LNBW.jpg\\', \\'cast_id\\': 100, \\'character\\': \\'Wedding Party Guest (uncredited)\\', \\'credit_id\\': \\'55f1b89b9251410d6d000af0\\', \\'order\\': 55}, {\\'adult\\': False, \\'gender\\': 2, \\'id\\': 16525, \\'known_for_department\\': \\'Acting\\', \\'name\\': \\'Joe Spinell\\', \\'original_name\\': \\'Joe Spinell\\', \\'popularity\\': 4.913, \\'profile_path\\': \\'/rdDEi8SJSx9OwVJQaHNa3VfZBRM.jpg\\', \\'cast_id\\': 99, \\'character\\': \"William \\'Willie\\' Cicci (uncredited)\", \\'credit_id\\': \\'55f1b85d925141670500228d\\', \\'order\\': 56}, {\\'adult\\': False, \\'gender\\': 2, \\'id\\': 1234848, \\'known_for_department\\': \\'Acting\\', \\'name\\': \\'Conrad Yama\\', \\'original_name\\': \\'Conrad Yama\\', \\'popularity\\': 1.287, \\'profile_path\\': None, \\'cast_id\\': 101, \\'character\\': \\'Fruit Vendor (uncredited)\\', \\'credit_id\\': \\'55f1b90892514167050022a8\\', \\'order\\': 57}]'"
      ]
     },
     "execution_count": 89,
     "metadata": {},
     "output_type": "execute_result"
    }
   ],
   "source": [
    "movies.iloc[0]['Cast']"
   ]
  },
  {
   "cell_type": "code",
   "execution_count": 90,
   "metadata": {},
   "outputs": [],
   "source": [
    "## From many names we only want top 3\n",
    "def convert_cast(text):\n",
    "    list = [] \n",
    "    counter = 0\n",
    "    for i in ast.literal_eval(text):\n",
    "        if counter < 3:\n",
    "            list.append(i['name'])\n",
    "        counter+=1\n",
    "    return list"
   ]
  },
  {
   "cell_type": "code",
   "execution_count": 91,
   "metadata": {},
   "outputs": [],
   "source": [
    "movies['Cast'] = movies['Cast'].apply(convert_cast)"
   ]
  },
  {
   "cell_type": "code",
   "execution_count": 92,
   "metadata": {},
   "outputs": [
    {
     "data": {
      "text/plain": [
       "\"[{'adult': False, 'gender': 2, 'id': 154, 'known_for_department': 'Editing', 'name': 'Walter Murch', 'original_name': 'Walter Murch', 'popularity': 3.167, 'profile_path': '/kQh7U7kRLF9NKEMpxiGjZEIu0o3.jpg', 'credit_id': '62bd43fb63d9370092ba09da', 'department': 'Crew', 'job': 'Post Production Consulting'}, {'adult': False, 'gender': 2, 'id': 1776, 'known_for_department': 'Directing', 'name': 'Francis Ford Coppola', 'original_name': 'Francis Ford Coppola', 'popularity': 8.922, 'profile_path': '/mGKkVp3l9cipPt10AqoQnwaPrfI.jpg', 'credit_id': '52fe422bc3a36847f80093db', 'department': 'Writing', 'job': 'Screenplay'}, {'adult': False, 'gender': 2, 'id': 1776, 'known_for_department': 'Directing', 'name': 'Francis Ford Coppola', 'original_name': 'Francis Ford Coppola', 'popularity': 8.922, 'profile_path': '/mGKkVp3l9cipPt10AqoQnwaPrfI.jpg', 'credit_id': '5e92505cccb15f00136de455', 'department': 'Directing', 'job': 'Director'}, {'adult': False, 'gender': 2, 'id': 1776, 'known_for_department': 'Directing', 'name': 'Francis Ford Coppola', 'original_name': 'Francis Ford Coppola', 'popularity': 8.922, 'profile_path': '/mGKkVp3l9cipPt10AqoQnwaPrfI.jpg', 'credit_id': '5f9c86e3bc8abc003b2fe6b7', 'department': 'Crew', 'job': 'Thanks'}, {'adult': False, 'gender': 2, 'id': 2870, 'known_for_department': 'Production', 'name': 'Gray Frederickson', 'original_name': 'Gray Frederickson', 'popularity': 2.905, 'profile_path': None, 'credit_id': '53884fe1c3a3681ad7004590', 'department': 'Production', 'job': 'Associate Producer'}, {'adult': False, 'gender': 2, 'id': 2871, 'known_for_department': 'Production', 'name': 'Fred Roos', 'original_name': 'Fred Roos', 'popularity': 3.678, 'profile_path': '/qfXLY5E589l0TQnoayWmUrBDsgo.jpg', 'credit_id': '53885041c3a3681ad700459b', 'department': 'Production', 'job': 'Casting'}, {'adult': False, 'gender': 2, 'id': 2872, 'known_for_department': 'Sound', 'name': 'Carmine Coppola', 'original_name': 'Carmine Coppola', 'popularity': 3.961, 'profile_path': '/iURpKXIgdtQoVCBQ8GKGvb0Qw5z.jpg', 'credit_id': '62bd43877304b52384a221cb', 'department': 'Crew', 'job': 'Additional Music'}, {'adult': False, 'gender': 2, 'id': 2875, 'known_for_department': 'Art', 'name': 'Dean Tavoularis', 'original_name': 'Dean Tavoularis', 'popularity': 5.116, 'profile_path': '/hrRBaXUn2k29qd1MvAxuag5L32c.jpg', 'credit_id': '53884b4e0e0a261441005deb', 'department': 'Art', 'job': 'Production Design'}, {'adult': False, 'gender': 2, 'id': 457, 'known_for_department': 'Production', 'name': 'Albert S. Ruddy', 'original_name': 'Albert S. Ruddy', 'popularity': 8.811, 'profile_path': None, 'credit_id': '52fe422bc3a36847f80093cf', 'department': 'Production', 'job': 'Producer'}, {'adult': False, 'gender': 2, 'id': 949, 'known_for_department': 'Production', 'name': 'Louis DiGiaimo', 'original_name': 'Louis DiGiaimo', 'popularity': 0.6, 'profile_path': None, 'credit_id': '53885009c3a3682f780004c6', 'department': 'Production', 'job': 'Casting'}, {'adult': False, 'gender': 2, 'id': 1044, 'known_for_department': 'Camera', 'name': 'Michael Chapman', 'original_name': 'Michael Chapman', 'popularity': 1.238, 'profile_path': '/vFFWHlwwIgWoi2NPoVq3uzikCnM.jpg', 'credit_id': '62bd4492097c490051497166', 'department': 'Camera', 'job': 'Camera Operator'}, {'adult': False, 'gender': 2, 'id': 3083, 'known_for_department': 'Writing', 'name': 'Mario Puzo', 'original_name': 'Mario Puzo', 'popularity': 5.142, 'profile_path': '/lEsT1uCZAZg1nYDQe3Fsj9CalzT.jpg', 'credit_id': '52fe422bc3a36847f80093d5', 'department': 'Writing', 'job': 'Screenplay'}, {'adult': False, 'gender': 2, 'id': 3083, 'known_for_department': 'Writing', 'name': 'Mario Puzo', 'original_name': 'Mario Puzo', 'popularity': 5.142, 'profile_path': '/lEsT1uCZAZg1nYDQe3Fsj9CalzT.jpg', 'credit_id': '538848cec3a3681aea00405a', 'department': 'Writing', 'job': 'Novel'}, {'adult': False, 'gender': 2, 'id': 3097, 'known_for_department': 'Camera', 'name': 'Gordon Willis', 'original_name': 'Gordon Willis', 'popularity': 2.194, 'profile_path': '/6gOmfatlF7UdhaHi2tPsZMb5vmz.jpg', 'credit_id': '538848a0c3a3681ae3004283', 'department': 'Camera', 'job': 'Director of Photography'}, {'adult': False, 'gender': 2, 'id': 3098, 'known_for_department': 'Sound', 'name': 'Nino Rota', 'original_name': 'Nino Rota', 'popularity': 6.266, 'profile_path': '/v42v3uM7jqwoZxDJ8MlEtT6Ol7a.jpg', 'credit_id': '538848b1c3a3681aea004056', 'department': 'Sound', 'job': 'Original Music Composer'}, {'adult': False, 'gender': 2, 'id': 3099, 'known_for_department': 'Editing', 'name': 'William Reynolds', 'original_name': 'William Reynolds', 'popularity': 4.655, 'profile_path': None, 'credit_id': '52fe422bc3a36847f80093ed', 'department': 'Editing', 'job': 'Editor'}, {'adult': False, 'gender': 2, 'id': 3100, 'known_for_department': 'Editing', 'name': 'Peter Zinner', 'original_name': 'Peter Zinner', 'popularity': 2.321, 'profile_path': None, 'credit_id': '52fe422bc3a36847f80093f3', 'department': 'Editing', 'job': 'Editor'}, {'adult': False, 'gender': 0, 'id': 3101, 'known_for_department': 'Production', 'name': 'Andrea Eastman', 'original_name': 'Andrea Eastman', 'popularity': 1.4, 'profile_path': None, 'credit_id': '53885029c3a3681ad7004596', 'department': 'Production', 'job': 'Casting'}, {'adult': False, 'gender': 2, 'id': 3103, 'known_for_department': 'Sound', 'name': 'Charles Grenzbach', 'original_name': 'Charles Grenzbach', 'popularity': 1.4, 'profile_path': None, 'credit_id': '570006ec9251417647000790', 'department': 'Sound', 'job': 'Sound Re-Recording Mixer'}, {'adult': False, 'gender': 2, 'id': 3104, 'known_for_department': 'Sound', 'name': 'Chris Newman', 'original_name': 'Chris Newman', 'popularity': 1.4, 'profile_path': None, 'credit_id': '569d53449251415e67004177', 'department': 'Sound', 'job': 'Sound'}, {'adult': False, 'gender': 2, 'id': 3105, 'known_for_department': 'Sound', 'name': 'Richard Portman', 'original_name': 'Richard Portman', 'popularity': 2.02, 'profile_path': None, 'credit_id': '568c060ac3a3685f89018710', 'department': 'Sound', 'job': 'Sound Re-Recording Mixer'}, {'adult': False, 'gender': 0, 'id': 3106, 'known_for_department': 'Sound', 'name': 'John C. Hammell', 'original_name': 'John C. Hammell', 'popularity': 0.6, 'profile_path': None, 'credit_id': '56cb4864c3a3684e2500045e', 'department': 'Sound', 'job': 'Music Editor'}, {'adult': False, 'gender': 2, 'id': 6099, 'known_for_department': 'Production', 'name': 'Valerio De Paolis', 'original_name': 'Valerio De Paolis', 'popularity': 0.614, 'profile_path': '/rbsYkbJPgQAMuFY71RYrYatdXWT.jpg', 'credit_id': '563e3d18c3a3681b5402d6d3', 'department': 'Production', 'job': 'Production Manager'}, {'adult': False, 'gender': 1, 'id': 6851, 'known_for_department': 'Costume & Make-Up', 'name': 'Anna Hill Johnstone', 'original_name': 'Anna Hill Johnstone', 'popularity': 0.98, 'profile_path': None, 'credit_id': '53884fc3c3a3681add0044ad', 'department': 'Costume & Make-Up', 'job': 'Costume Design'}, {'adult': False, 'gender': 0, 'id': 16194, 'known_for_department': 'Costume & Make-Up', 'name': 'Philip Leto', 'original_name': 'Philip Leto', 'popularity': 1.04, 'profile_path': None, 'credit_id': '56a76fd49251412a04002fa6', 'department': 'Costume & Make-Up', 'job': 'Hairstylist'}, {'adult': False, 'gender': 2, 'id': 10546, 'known_for_department': 'Production', 'name': 'Fred T. Gallo', 'original_name': 'Fred T. Gallo', 'popularity': 0.6, 'profile_path': None, 'credit_id': '5e9250a3875d1a001442c342', 'department': 'Directing', 'job': 'Assistant Director'}, {'adult': False, 'gender': 0, 'id': 11789, 'known_for_department': 'Production', 'name': 'Fred C. Caruso', 'original_name': 'Fred C. Caruso', 'popularity': 2.234, 'profile_path': None, 'credit_id': '57447bba925141110900063d', 'department': 'Production', 'job': 'Unit Production Manager'}, {'adult': False, 'gender': 2, 'id': 12288, 'known_for_department': 'Production', 'name': 'Robert Evans', 'original_name': 'Robert Evans', 'popularity': 1.234, 'profile_path': '/rCiTT2VrBKeHWdnHAyfGtMXs9go.jpg', 'credit_id': '57447b41c3a36807770006ab', 'department': 'Production', 'job': 'Executive Producer'}, {'adult': False, 'gender': 0, 'id': 14059, 'known_for_department': 'Crew', 'name': 'Sass Bedig', 'original_name': 'Sass Bedig', 'popularity': 0.674, 'profile_path': None, 'credit_id': '57448523925141218f000400', 'department': 'Crew', 'job': 'Special Effects'}, {'adult': False, 'gender': 2, 'id': 29389, 'known_for_department': 'Sound', 'name': 'Carlo Savina', 'original_name': 'Carlo Savina', 'popularity': 0.702, 'profile_path': None, 'credit_id': '62bd436412aabc151f2dbaef', 'department': 'Sound', 'job': 'Conductor'}, {'adult': False, 'gender': 2, 'id': 29654, 'known_for_department': 'Costume & Make-Up', 'name': 'Dick Smith', 'original_name': 'Dick Smith', 'popularity': 1.4, 'profile_path': '/kKCenlQ8iQCTLGfX8ZPpJFpxvwS.jpg', 'credit_id': '56a76ff8c3a36819c9002fcb', 'department': 'Costume & Make-Up', 'job': 'Makeup Artist'}, {'adult': False, 'gender': 2, 'id': 30580, 'known_for_department': 'Art', 'name': 'Philip Smith', 'original_name': 'Philip Smith', 'popularity': 0.6, 'profile_path': None, 'credit_id': '53884fb2c3a3681ad700458c', 'department': 'Art', 'job': 'Set Decoration'}, {'adult': False, 'gender': 0, 'id': 81519, 'known_for_department': 'Art', 'name': 'Warren Clymer', 'original_name': 'Warren Clymer', 'popularity': 1.38, 'profile_path': None, 'credit_id': '53884f8dc3a3681add0044a6', 'department': 'Art', 'job': 'Art Direction'}, {'adult': False, 'gender': 0, 'id': 81532, 'known_for_department': 'Costume & Make-Up', 'name': 'George Newman', 'original_name': 'George Newman', 'popularity': 0.6, 'profile_path': None, 'credit_id': '62bd446a7304b523856c2c25', 'department': 'Costume & Make-Up', 'job': 'Wardrobe Supervisor'}, {'adult': False, 'gender': 2, 'id': 51302, 'known_for_department': 'Crew', 'name': 'Joe Bucaro III', 'original_name': 'Joe Bucaro III', 'popularity': 7.525, 'profile_path': '/gvJs1YQZRrSbkiSGAiCAugaXyzl.jpg', 'credit_id': '574486e0c3a368076b000ac6', 'department': 'Crew', 'job': 'Stunts'}, {'adult': False, 'gender': 2, 'id': 96912, 'known_for_department': 'Crew', 'name': 'Joe Lombardi', 'original_name': 'Joe Lombardi', 'popularity': 1.358, 'profile_path': None, 'credit_id': '574485a9925141218f000420', 'department': 'Crew', 'job': 'Special Effects'}, {'adult': False, 'gender': 2, 'id': 718968, 'known_for_department': 'Production', 'name': 'Stephen F. Kesten', 'original_name': 'Stephen F. Kesten', 'popularity': 1.4, 'profile_path': None, 'credit_id': '5e9250b284448e00148f0783', 'department': 'Directing', 'job': 'Assistant Director'}, {'adult': False, 'gender': 2, 'id': 1318092, 'known_for_department': 'Crew', 'name': 'Paul J. Lombardi', 'original_name': 'Paul J. Lombardi', 'popularity': 1.121, 'profile_path': None, 'credit_id': '5744865f92514120a70004b3', 'department': 'Visual Effects', 'job': 'Special Effects Supervisor'}, {'adult': False, 'gender': 2, 'id': 1433439, 'known_for_department': 'Crew', 'name': 'Paul Baxley', 'original_name': 'Paul Baxley', 'popularity': 4.86, 'profile_path': None, 'credit_id': '574486b4c3a3681c760004a9', 'department': 'Crew', 'job': 'Stunt Coordinator'}, {'adult': False, 'gender': 1, 'id': 1511672, 'known_for_department': 'Directing', 'name': 'Nancy Hopton', 'original_name': 'Nancy Hopton', 'popularity': 0.63, 'profile_path': None, 'credit_id': '62bd44c217b5ef04e6b3fc04', 'department': 'Directing', 'job': 'Script Supervisor'}, {'adult': False, 'gender': 0, 'id': 1518601, 'known_for_department': 'Costume & Make-Up', 'name': 'Phil Rhodes', 'original_name': 'Phil Rhodes', 'popularity': 0.6, 'profile_path': None, 'credit_id': '56a76fc79251412a04002fa3', 'department': 'Costume & Make-Up', 'job': 'Makeup Artist'}, {'adult': False, 'gender': 2, 'id': 1546904, 'known_for_department': 'Camera', 'name': 'Robert Ward', 'original_name': 'Robert Ward', 'popularity': 0.6, 'profile_path': None, 'credit_id': '566871e5c3a36836ac0038f7', 'department': 'Camera', 'job': 'Grip'}, {'adult': False, 'gender': 0, 'id': 1614958, 'known_for_department': 'Crew', 'name': 'Steven Burnett', 'original_name': 'Steven Burnett', 'popularity': 1.065, 'profile_path': None, 'credit_id': '5744870d92514133d400001b', 'department': 'Crew', 'job': 'Stunts'}, {'adult': False, 'gender': 0, 'id': 1625346, 'known_for_department': 'Production', 'name': 'Ned Kopp', 'original_name': 'Ned Kopp', 'popularity': 0.6, 'profile_path': None, 'credit_id': '57447c09925141110f000695', 'department': 'Production', 'job': 'Production Manager'}, {'adult': False, 'gender': 2, 'id': 1625347, 'known_for_department': 'Directing', 'name': 'Tony Brandt', 'original_name': 'Tony Brandt', 'popularity': 0.6, 'profile_path': None, 'credit_id': '5e92510accb15f00156de8d4', 'department': 'Directing', 'job': 'Assistant Director'}, {'adult': False, 'gender': 0, 'id': 1789636, 'known_for_department': 'Sound', 'name': 'Carl Fortina', 'original_name': 'Carl Fortina', 'popularity': 0.98, 'profile_path': None, 'credit_id': '58e3cf17c3a3684aa40124b5', 'department': 'Sound', 'job': 'Musician'}, {'adult': False, 'gender': 0, 'id': 3357584, 'known_for_department': 'Production', 'name': 'Michael Briggs', 'original_name': 'Michael Briggs', 'popularity': 0.6, 'profile_path': None, 'credit_id': '62bd45a47ef3812768ed8113', 'department': 'Production', 'job': 'Location Coordinator'}, {'adult': False, 'gender': 0, 'id': 3606474, 'known_for_department': 'Production', 'name': 'Tony Bowers', 'original_name': 'Tony Bowers', 'popularity': 0.6, 'profile_path': None, 'credit_id': '62bd45e59a9f9a008bf772b9', 'department': 'Production', 'job': 'Location Coordinator'}]\""
      ]
     },
     "execution_count": 92,
     "metadata": {},
     "output_type": "execute_result"
    }
   ],
   "source": [
    "movies.iloc[0]['Crew']"
   ]
  },
  {
   "cell_type": "code",
   "execution_count": 93,
   "metadata": {},
   "outputs": [],
   "source": [
    "## Fetch the directors name from crew column\n",
    "def fetch_director(text):\n",
    "    list = []\n",
    "    for i in ast.literal_eval(text):\n",
    "        if i['job'] == 'Director':\n",
    "            list.append(i['name'])\n",
    "            break\n",
    "    return list"
   ]
  },
  {
   "cell_type": "code",
   "execution_count": 94,
   "metadata": {},
   "outputs": [],
   "source": [
    "movies['Crew'] = movies['Crew'].apply(fetch_director)"
   ]
  },
  {
   "cell_type": "code",
   "execution_count": 95,
   "metadata": {},
   "outputs": [
    {
     "data": {
      "text/html": [
       "<div>\n",
       "<style scoped>\n",
       "    .dataframe tbody tr th:only-of-type {\n",
       "        vertical-align: middle;\n",
       "    }\n",
       "\n",
       "    .dataframe tbody tr th {\n",
       "        vertical-align: top;\n",
       "    }\n",
       "\n",
       "    .dataframe thead th {\n",
       "        text-align: right;\n",
       "    }\n",
       "</style>\n",
       "<table border=\"1\" class=\"dataframe\">\n",
       "  <thead>\n",
       "    <tr style=\"text-align: right;\">\n",
       "      <th></th>\n",
       "      <th>Movie_id_x</th>\n",
       "      <th>title</th>\n",
       "      <th>overview</th>\n",
       "      <th>Genres</th>\n",
       "      <th>Keywords</th>\n",
       "      <th>Cast</th>\n",
       "      <th>Crew</th>\n",
       "    </tr>\n",
       "  </thead>\n",
       "  <tbody>\n",
       "    <tr>\n",
       "      <th>0</th>\n",
       "      <td>238</td>\n",
       "      <td>The Godfather</td>\n",
       "      <td>Spanning the years 1945 to 1955, a chronicle o...</td>\n",
       "      <td>[Drama, Crime]</td>\n",
       "      <td>[italy, loss of loved one, love at first sight...</td>\n",
       "      <td>[Marlon Brando, Al Pacino, James Caan]</td>\n",
       "      <td>[Francis Ford Coppola]</td>\n",
       "    </tr>\n",
       "    <tr>\n",
       "      <th>1</th>\n",
       "      <td>278</td>\n",
       "      <td>The Shawshank Redemption</td>\n",
       "      <td>Framed in the 1940s for the double murder of h...</td>\n",
       "      <td>[Drama, Crime]</td>\n",
       "      <td>[prison, corruption, police brutality, based o...</td>\n",
       "      <td>[Tim Robbins, Morgan Freeman, Bob Gunton]</td>\n",
       "      <td>[Frank Darabont]</td>\n",
       "    </tr>\n",
       "  </tbody>\n",
       "</table>\n",
       "</div>"
      ],
      "text/plain": [
       "   Movie_id_x                     title  \\\n",
       "0         238             The Godfather   \n",
       "1         278  The Shawshank Redemption   \n",
       "\n",
       "                                            overview          Genres  \\\n",
       "0  Spanning the years 1945 to 1955, a chronicle o...  [Drama, Crime]   \n",
       "1  Framed in the 1940s for the double murder of h...  [Drama, Crime]   \n",
       "\n",
       "                                            Keywords  \\\n",
       "0  [italy, loss of loved one, love at first sight...   \n",
       "1  [prison, corruption, police brutality, based o...   \n",
       "\n",
       "                                        Cast                    Crew  \n",
       "0     [Marlon Brando, Al Pacino, James Caan]  [Francis Ford Coppola]  \n",
       "1  [Tim Robbins, Morgan Freeman, Bob Gunton]        [Frank Darabont]  "
      ]
     },
     "execution_count": 95,
     "metadata": {},
     "output_type": "execute_result"
    }
   ],
   "source": [
    "movies.head(2)"
   ]
  },
  {
   "cell_type": "code",
   "execution_count": 96,
   "metadata": {},
   "outputs": [
    {
     "data": {
      "text/plain": [
       "'Spanning the years 1945 to 1955, a chronicle of the fictional Italian-American Corleone crime family. When organized crime family patriarch, Vito Corleone barely survives an attempt on his life, his youngest son, Michael steps in to take care of the would-be killers, launching a campaign of bloody revenge.'"
      ]
     },
     "execution_count": 96,
     "metadata": {},
     "output_type": "execute_result"
    }
   ],
   "source": [
    "movies.iloc[0]['overview']"
   ]
  },
  {
   "cell_type": "code",
   "execution_count": 97,
   "metadata": {},
   "outputs": [
    {
     "data": {
      "text/html": [
       "<div>\n",
       "<style scoped>\n",
       "    .dataframe tbody tr th:only-of-type {\n",
       "        vertical-align: middle;\n",
       "    }\n",
       "\n",
       "    .dataframe tbody tr th {\n",
       "        vertical-align: top;\n",
       "    }\n",
       "\n",
       "    .dataframe thead th {\n",
       "        text-align: right;\n",
       "    }\n",
       "</style>\n",
       "<table border=\"1\" class=\"dataframe\">\n",
       "  <thead>\n",
       "    <tr style=\"text-align: right;\">\n",
       "      <th></th>\n",
       "      <th>Movie_id_x</th>\n",
       "      <th>title</th>\n",
       "      <th>overview</th>\n",
       "      <th>Genres</th>\n",
       "      <th>Keywords</th>\n",
       "      <th>Cast</th>\n",
       "      <th>Crew</th>\n",
       "    </tr>\n",
       "  </thead>\n",
       "  <tbody>\n",
       "    <tr>\n",
       "      <th>0</th>\n",
       "      <td>238</td>\n",
       "      <td>The Godfather</td>\n",
       "      <td>[Spanning, the, years, 1945, to, 1955,, a, chr...</td>\n",
       "      <td>[Drama, Crime]</td>\n",
       "      <td>[italy, loss of loved one, love at first sight...</td>\n",
       "      <td>[Marlon Brando, Al Pacino, James Caan]</td>\n",
       "      <td>[Francis Ford Coppola]</td>\n",
       "    </tr>\n",
       "    <tr>\n",
       "      <th>1</th>\n",
       "      <td>278</td>\n",
       "      <td>The Shawshank Redemption</td>\n",
       "      <td>[Framed, in, the, 1940s, for, the, double, mur...</td>\n",
       "      <td>[Drama, Crime]</td>\n",
       "      <td>[prison, corruption, police brutality, based o...</td>\n",
       "      <td>[Tim Robbins, Morgan Freeman, Bob Gunton]</td>\n",
       "      <td>[Frank Darabont]</td>\n",
       "    </tr>\n",
       "  </tbody>\n",
       "</table>\n",
       "</div>"
      ],
      "text/plain": [
       "   Movie_id_x                     title  \\\n",
       "0         238             The Godfather   \n",
       "1         278  The Shawshank Redemption   \n",
       "\n",
       "                                            overview          Genres  \\\n",
       "0  [Spanning, the, years, 1945, to, 1955,, a, chr...  [Drama, Crime]   \n",
       "1  [Framed, in, the, 1940s, for, the, double, mur...  [Drama, Crime]   \n",
       "\n",
       "                                            Keywords  \\\n",
       "0  [italy, loss of loved one, love at first sight...   \n",
       "1  [prison, corruption, police brutality, based o...   \n",
       "\n",
       "                                        Cast                    Crew  \n",
       "0     [Marlon Brando, Al Pacino, James Caan]  [Francis Ford Coppola]  \n",
       "1  [Tim Robbins, Morgan Freeman, Bob Gunton]        [Frank Darabont]  "
      ]
     },
     "execution_count": 97,
     "metadata": {},
     "output_type": "execute_result"
    }
   ],
   "source": [
    "## Seperating each word and storing each word in list \n",
    "movies['overview'] = movies['overview'].apply(lambda x:x.split())\n",
    "movies.head(2)"
   ]
  },
  {
   "cell_type": "code",
   "execution_count": 98,
   "metadata": {},
   "outputs": [],
   "source": [
    "## Removing spaces from names because it consider name as a seperate word\n",
    "\n",
    "def remove_space(text):\n",
    "    list = []\n",
    "    for i in text:\n",
    "        list.append(i.replace(\" \",\"\"))\n",
    "    return list"
   ]
  },
  {
   "cell_type": "code",
   "execution_count": 99,
   "metadata": {},
   "outputs": [],
   "source": [
    "movies['Cast'] = movies['Cast'].apply(remove_space)\n",
    "movies['Crew'] = movies['Crew'].apply(remove_space)\n",
    "movies['Genres'] = movies['Genres'].apply(remove_space)\n",
    "movies['Keywords'] = movies['Keywords'].apply(remove_space)"
   ]
  },
  {
   "cell_type": "code",
   "execution_count": 102,
   "metadata": {},
   "outputs": [
    {
     "data": {
      "text/html": [
       "<div>\n",
       "<style scoped>\n",
       "    .dataframe tbody tr th:only-of-type {\n",
       "        vertical-align: middle;\n",
       "    }\n",
       "\n",
       "    .dataframe tbody tr th {\n",
       "        vertical-align: top;\n",
       "    }\n",
       "\n",
       "    .dataframe thead th {\n",
       "        text-align: right;\n",
       "    }\n",
       "</style>\n",
       "<table border=\"1\" class=\"dataframe\">\n",
       "  <thead>\n",
       "    <tr style=\"text-align: right;\">\n",
       "      <th></th>\n",
       "      <th>Movie_id_x</th>\n",
       "      <th>title</th>\n",
       "      <th>overview</th>\n",
       "      <th>Genres</th>\n",
       "      <th>Keywords</th>\n",
       "      <th>Cast</th>\n",
       "      <th>Crew</th>\n",
       "    </tr>\n",
       "  </thead>\n",
       "  <tbody>\n",
       "    <tr>\n",
       "      <th>0</th>\n",
       "      <td>238</td>\n",
       "      <td>The Godfather</td>\n",
       "      <td>[Spanning, the, years, 1945, to, 1955,, a, chr...</td>\n",
       "      <td>[Drama, Crime]</td>\n",
       "      <td>[italy, lossoflovedone, loveatfirstsight, base...</td>\n",
       "      <td>[MarlonBrando, AlPacino, JamesCaan]</td>\n",
       "      <td>[FrancisFordCoppola]</td>\n",
       "    </tr>\n",
       "    <tr>\n",
       "      <th>1</th>\n",
       "      <td>278</td>\n",
       "      <td>The Shawshank Redemption</td>\n",
       "      <td>[Framed, in, the, 1940s, for, the, double, mur...</td>\n",
       "      <td>[Drama, Crime]</td>\n",
       "      <td>[prison, corruption, policebrutality, basedonn...</td>\n",
       "      <td>[TimRobbins, MorganFreeman, BobGunton]</td>\n",
       "      <td>[FrankDarabont]</td>\n",
       "    </tr>\n",
       "  </tbody>\n",
       "</table>\n",
       "</div>"
      ],
      "text/plain": [
       "   Movie_id_x                     title  \\\n",
       "0         238             The Godfather   \n",
       "1         278  The Shawshank Redemption   \n",
       "\n",
       "                                            overview          Genres  \\\n",
       "0  [Spanning, the, years, 1945, to, 1955,, a, chr...  [Drama, Crime]   \n",
       "1  [Framed, in, the, 1940s, for, the, double, mur...  [Drama, Crime]   \n",
       "\n",
       "                                            Keywords  \\\n",
       "0  [italy, lossoflovedone, loveatfirstsight, base...   \n",
       "1  [prison, corruption, policebrutality, basedonn...   \n",
       "\n",
       "                                     Cast                  Crew  \n",
       "0     [MarlonBrando, AlPacino, JamesCaan]  [FrancisFordCoppola]  \n",
       "1  [TimRobbins, MorganFreeman, BobGunton]       [FrankDarabont]  "
      ]
     },
     "execution_count": 102,
     "metadata": {},
     "output_type": "execute_result"
    }
   ],
   "source": [
    "movies.head(2)"
   ]
  },
  {
   "cell_type": "code",
   "execution_count": 103,
   "metadata": {},
   "outputs": [],
   "source": [
    "## Merging all the columns like (overview, Genres, Keywords, Cast, Crew) and storing it in tag column.\n",
    "movies['tags']  =movies['overview'] + movies['Genres'] + movies['Keywords'] + movies['Cast'] + movies['Crew']"
   ]
  },
  {
   "cell_type": "code",
   "execution_count": 104,
   "metadata": {},
   "outputs": [
    {
     "data": {
      "text/html": [
       "<div>\n",
       "<style scoped>\n",
       "    .dataframe tbody tr th:only-of-type {\n",
       "        vertical-align: middle;\n",
       "    }\n",
       "\n",
       "    .dataframe tbody tr th {\n",
       "        vertical-align: top;\n",
       "    }\n",
       "\n",
       "    .dataframe thead th {\n",
       "        text-align: right;\n",
       "    }\n",
       "</style>\n",
       "<table border=\"1\" class=\"dataframe\">\n",
       "  <thead>\n",
       "    <tr style=\"text-align: right;\">\n",
       "      <th></th>\n",
       "      <th>Movie_id_x</th>\n",
       "      <th>title</th>\n",
       "      <th>overview</th>\n",
       "      <th>Genres</th>\n",
       "      <th>Keywords</th>\n",
       "      <th>Cast</th>\n",
       "      <th>Crew</th>\n",
       "      <th>tags</th>\n",
       "    </tr>\n",
       "  </thead>\n",
       "  <tbody>\n",
       "    <tr>\n",
       "      <th>0</th>\n",
       "      <td>238</td>\n",
       "      <td>The Godfather</td>\n",
       "      <td>[Spanning, the, years, 1945, to, 1955,, a, chr...</td>\n",
       "      <td>[Drama, Crime]</td>\n",
       "      <td>[italy, lossoflovedone, loveatfirstsight, base...</td>\n",
       "      <td>[MarlonBrando, AlPacino, JamesCaan]</td>\n",
       "      <td>[FrancisFordCoppola]</td>\n",
       "      <td>[Spanning, the, years, 1945, to, 1955,, a, chr...</td>\n",
       "    </tr>\n",
       "    <tr>\n",
       "      <th>1</th>\n",
       "      <td>278</td>\n",
       "      <td>The Shawshank Redemption</td>\n",
       "      <td>[Framed, in, the, 1940s, for, the, double, mur...</td>\n",
       "      <td>[Drama, Crime]</td>\n",
       "      <td>[prison, corruption, policebrutality, basedonn...</td>\n",
       "      <td>[TimRobbins, MorganFreeman, BobGunton]</td>\n",
       "      <td>[FrankDarabont]</td>\n",
       "      <td>[Framed, in, the, 1940s, for, the, double, mur...</td>\n",
       "    </tr>\n",
       "  </tbody>\n",
       "</table>\n",
       "</div>"
      ],
      "text/plain": [
       "   Movie_id_x                     title  \\\n",
       "0         238             The Godfather   \n",
       "1         278  The Shawshank Redemption   \n",
       "\n",
       "                                            overview          Genres  \\\n",
       "0  [Spanning, the, years, 1945, to, 1955,, a, chr...  [Drama, Crime]   \n",
       "1  [Framed, in, the, 1940s, for, the, double, mur...  [Drama, Crime]   \n",
       "\n",
       "                                            Keywords  \\\n",
       "0  [italy, lossoflovedone, loveatfirstsight, base...   \n",
       "1  [prison, corruption, policebrutality, basedonn...   \n",
       "\n",
       "                                     Cast                  Crew  \\\n",
       "0     [MarlonBrando, AlPacino, JamesCaan]  [FrancisFordCoppola]   \n",
       "1  [TimRobbins, MorganFreeman, BobGunton]       [FrankDarabont]   \n",
       "\n",
       "                                                tags  \n",
       "0  [Spanning, the, years, 1945, to, 1955,, a, chr...  \n",
       "1  [Framed, in, the, 1940s, for, the, double, mur...  "
      ]
     },
     "execution_count": 104,
     "metadata": {},
     "output_type": "execute_result"
    }
   ],
   "source": [
    "movies.head(2)"
   ]
  },
  {
   "cell_type": "code",
   "execution_count": 105,
   "metadata": {},
   "outputs": [
    {
     "data": {
      "text/plain": [
       "['Spanning',\n",
       " 'the',\n",
       " 'years',\n",
       " '1945',\n",
       " 'to',\n",
       " '1955,',\n",
       " 'a',\n",
       " 'chronicle',\n",
       " 'of',\n",
       " 'the',\n",
       " 'fictional',\n",
       " 'Italian-American',\n",
       " 'Corleone',\n",
       " 'crime',\n",
       " 'family.',\n",
       " 'When',\n",
       " 'organized',\n",
       " 'crime',\n",
       " 'family',\n",
       " 'patriarch,',\n",
       " 'Vito',\n",
       " 'Corleone',\n",
       " 'barely',\n",
       " 'survives',\n",
       " 'an',\n",
       " 'attempt',\n",
       " 'on',\n",
       " 'his',\n",
       " 'life,',\n",
       " 'his',\n",
       " 'youngest',\n",
       " 'son,',\n",
       " 'Michael',\n",
       " 'steps',\n",
       " 'in',\n",
       " 'to',\n",
       " 'take',\n",
       " 'care',\n",
       " 'of',\n",
       " 'the',\n",
       " 'would-be',\n",
       " 'killers,',\n",
       " 'launching',\n",
       " 'a',\n",
       " 'campaign',\n",
       " 'of',\n",
       " 'bloody',\n",
       " 'revenge.',\n",
       " 'Drama',\n",
       " 'Crime',\n",
       " 'italy',\n",
       " 'lossoflovedone',\n",
       " 'loveatfirstsight',\n",
       " 'basedonnovelorbook',\n",
       " 'europe',\n",
       " 'symbolism',\n",
       " 'patriarch',\n",
       " 'organizedcrime',\n",
       " 'mafia',\n",
       " 'lawyer',\n",
       " 'religion',\n",
       " 'revengemotive',\n",
       " 'crimefamily',\n",
       " 'sicilianmafia',\n",
       " 'religioushypocrisy',\n",
       " 'gunviolence',\n",
       " 'risetopower',\n",
       " 'deadhorse',\n",
       " 'gangviolence',\n",
       " '1940s',\n",
       " '1950s',\n",
       " 'mafiawar',\n",
       " 'partoftrilogy',\n",
       " 'MarlonBrando',\n",
       " 'AlPacino',\n",
       " 'JamesCaan',\n",
       " 'FrancisFordCoppola']"
      ]
     },
     "execution_count": 105,
     "metadata": {},
     "output_type": "execute_result"
    }
   ],
   "source": [
    "movies.iloc[0]['tags']"
   ]
  },
  {
   "cell_type": "code",
   "execution_count": 106,
   "metadata": {},
   "outputs": [],
   "source": [
    "df = movies[['Movie_id_x','title','tags']]"
   ]
  },
  {
   "cell_type": "code",
   "execution_count": 107,
   "metadata": {},
   "outputs": [
    {
     "data": {
      "text/html": [
       "<div>\n",
       "<style scoped>\n",
       "    .dataframe tbody tr th:only-of-type {\n",
       "        vertical-align: middle;\n",
       "    }\n",
       "\n",
       "    .dataframe tbody tr th {\n",
       "        vertical-align: top;\n",
       "    }\n",
       "\n",
       "    .dataframe thead th {\n",
       "        text-align: right;\n",
       "    }\n",
       "</style>\n",
       "<table border=\"1\" class=\"dataframe\">\n",
       "  <thead>\n",
       "    <tr style=\"text-align: right;\">\n",
       "      <th></th>\n",
       "      <th>Movie_id_x</th>\n",
       "      <th>title</th>\n",
       "      <th>tags</th>\n",
       "    </tr>\n",
       "  </thead>\n",
       "  <tbody>\n",
       "    <tr>\n",
       "      <th>0</th>\n",
       "      <td>238</td>\n",
       "      <td>The Godfather</td>\n",
       "      <td>[Spanning, the, years, 1945, to, 1955,, a, chr...</td>\n",
       "    </tr>\n",
       "    <tr>\n",
       "      <th>1</th>\n",
       "      <td>278</td>\n",
       "      <td>The Shawshank Redemption</td>\n",
       "      <td>[Framed, in, the, 1940s, for, the, double, mur...</td>\n",
       "    </tr>\n",
       "  </tbody>\n",
       "</table>\n",
       "</div>"
      ],
      "text/plain": [
       "   Movie_id_x                     title  \\\n",
       "0         238             The Godfather   \n",
       "1         278  The Shawshank Redemption   \n",
       "\n",
       "                                                tags  \n",
       "0  [Spanning, the, years, 1945, to, 1955,, a, chr...  \n",
       "1  [Framed, in, the, 1940s, for, the, double, mur...  "
      ]
     },
     "execution_count": 107,
     "metadata": {},
     "output_type": "execute_result"
    }
   ],
   "source": [
    "df.head(2)"
   ]
  },
  {
   "cell_type": "code",
   "execution_count": 108,
   "metadata": {},
   "outputs": [
    {
     "name": "stderr",
     "output_type": "stream",
     "text": [
      "C:\\Users\\gites\\AppData\\Local\\Temp\\ipykernel_15924\\4273827582.py:1: SettingWithCopyWarning: \n",
      "A value is trying to be set on a copy of a slice from a DataFrame.\n",
      "Try using .loc[row_indexer,col_indexer] = value instead\n",
      "\n",
      "See the caveats in the documentation: https://pandas.pydata.org/pandas-docs/stable/user_guide/indexing.html#returning-a-view-versus-a-copy\n",
      "  df['tags'] = df['tags'].apply(lambda x: \" \".join(x))\n"
     ]
    },
    {
     "data": {
      "text/html": [
       "<div>\n",
       "<style scoped>\n",
       "    .dataframe tbody tr th:only-of-type {\n",
       "        vertical-align: middle;\n",
       "    }\n",
       "\n",
       "    .dataframe tbody tr th {\n",
       "        vertical-align: top;\n",
       "    }\n",
       "\n",
       "    .dataframe thead th {\n",
       "        text-align: right;\n",
       "    }\n",
       "</style>\n",
       "<table border=\"1\" class=\"dataframe\">\n",
       "  <thead>\n",
       "    <tr style=\"text-align: right;\">\n",
       "      <th></th>\n",
       "      <th>Movie_id_x</th>\n",
       "      <th>title</th>\n",
       "      <th>tags</th>\n",
       "    </tr>\n",
       "  </thead>\n",
       "  <tbody>\n",
       "    <tr>\n",
       "      <th>0</th>\n",
       "      <td>238</td>\n",
       "      <td>The Godfather</td>\n",
       "      <td>Spanning the years 1945 to 1955, a chronicle o...</td>\n",
       "    </tr>\n",
       "    <tr>\n",
       "      <th>1</th>\n",
       "      <td>278</td>\n",
       "      <td>The Shawshank Redemption</td>\n",
       "      <td>Framed in the 1940s for the double murder of h...</td>\n",
       "    </tr>\n",
       "  </tbody>\n",
       "</table>\n",
       "</div>"
      ],
      "text/plain": [
       "   Movie_id_x                     title  \\\n",
       "0         238             The Godfather   \n",
       "1         278  The Shawshank Redemption   \n",
       "\n",
       "                                                tags  \n",
       "0  Spanning the years 1945 to 1955, a chronicle o...  \n",
       "1  Framed in the 1940s for the double murder of h...  "
      ]
     },
     "execution_count": 108,
     "metadata": {},
     "output_type": "execute_result"
    }
   ],
   "source": [
    "## This line join all the words in single sentence\n",
    "df['tags'] = df['tags'].apply(lambda x: \" \".join(x))\n",
    "df.head(2)"
   ]
  },
  {
   "cell_type": "code",
   "execution_count": 109,
   "metadata": {},
   "outputs": [
    {
     "data": {
      "text/plain": [
       "'Spanning the years 1945 to 1955, a chronicle of the fictional Italian-American Corleone crime family. When organized crime family patriarch, Vito Corleone barely survives an attempt on his life, his youngest son, Michael steps in to take care of the would-be killers, launching a campaign of bloody revenge. Drama Crime italy lossoflovedone loveatfirstsight basedonnovelorbook europe symbolism patriarch organizedcrime mafia lawyer religion revengemotive crimefamily sicilianmafia religioushypocrisy gunviolence risetopower deadhorse gangviolence 1940s 1950s mafiawar partoftrilogy MarlonBrando AlPacino JamesCaan FrancisFordCoppola'"
      ]
     },
     "execution_count": 109,
     "metadata": {},
     "output_type": "execute_result"
    }
   ],
   "source": [
    "df.iloc[0]['tags']"
   ]
  },
  {
   "cell_type": "code",
   "execution_count": 110,
   "metadata": {},
   "outputs": [
    {
     "name": "stderr",
     "output_type": "stream",
     "text": [
      "C:\\Users\\gites\\AppData\\Local\\Temp\\ipykernel_15924\\841579467.py:1: SettingWithCopyWarning: \n",
      "A value is trying to be set on a copy of a slice from a DataFrame.\n",
      "Try using .loc[row_indexer,col_indexer] = value instead\n",
      "\n",
      "See the caveats in the documentation: https://pandas.pydata.org/pandas-docs/stable/user_guide/indexing.html#returning-a-view-versus-a-copy\n",
      "  df['tags'] = df['tags'].apply(lambda x:x.lower())\n"
     ]
    }
   ],
   "source": [
    "## Converting all the words to lowercase\n",
    "df['tags'] = df['tags'].apply(lambda x:x.lower())"
   ]
  },
  {
   "cell_type": "code",
   "execution_count": 111,
   "metadata": {},
   "outputs": [
    {
     "data": {
      "text/html": [
       "<div>\n",
       "<style scoped>\n",
       "    .dataframe tbody tr th:only-of-type {\n",
       "        vertical-align: middle;\n",
       "    }\n",
       "\n",
       "    .dataframe tbody tr th {\n",
       "        vertical-align: top;\n",
       "    }\n",
       "\n",
       "    .dataframe thead th {\n",
       "        text-align: right;\n",
       "    }\n",
       "</style>\n",
       "<table border=\"1\" class=\"dataframe\">\n",
       "  <thead>\n",
       "    <tr style=\"text-align: right;\">\n",
       "      <th></th>\n",
       "      <th>Movie_id_x</th>\n",
       "      <th>title</th>\n",
       "      <th>tags</th>\n",
       "    </tr>\n",
       "  </thead>\n",
       "  <tbody>\n",
       "    <tr>\n",
       "      <th>0</th>\n",
       "      <td>238</td>\n",
       "      <td>The Godfather</td>\n",
       "      <td>spanning the years 1945 to 1955, a chronicle o...</td>\n",
       "    </tr>\n",
       "    <tr>\n",
       "      <th>1</th>\n",
       "      <td>278</td>\n",
       "      <td>The Shawshank Redemption</td>\n",
       "      <td>framed in the 1940s for the double murder of h...</td>\n",
       "    </tr>\n",
       "  </tbody>\n",
       "</table>\n",
       "</div>"
      ],
      "text/plain": [
       "   Movie_id_x                     title  \\\n",
       "0         238             The Godfather   \n",
       "1         278  The Shawshank Redemption   \n",
       "\n",
       "                                                tags  \n",
       "0  spanning the years 1945 to 1955, a chronicle o...  \n",
       "1  framed in the 1940s for the double murder of h...  "
      ]
     },
     "execution_count": 111,
     "metadata": {},
     "output_type": "execute_result"
    }
   ],
   "source": [
    "df.head(2)"
   ]
  },
  {
   "cell_type": "code",
   "execution_count": 112,
   "metadata": {},
   "outputs": [
    {
     "data": {
      "text/plain": [
       "(10704, 3)"
      ]
     },
     "execution_count": 112,
     "metadata": {},
     "output_type": "execute_result"
    }
   ],
   "source": [
    "df.shape"
   ]
  },
  {
   "cell_type": "code",
   "execution_count": 113,
   "metadata": {},
   "outputs": [],
   "source": [
    "import nltk\n",
    "from nltk.stem.porter import PorterStemmer\n",
    "ps = PorterStemmer()"
   ]
  },
  {
   "cell_type": "code",
   "execution_count": 114,
   "metadata": {},
   "outputs": [],
   "source": [
    "## This refers to a stemming function (likely from a stemmer object ps, which could be from the NLTK library's PorterStemmer or a similar stemmer). The stem(i) method reduces the word i to its root form (e.g., \"running\" becomes \"run\").\n",
    "def stems(text):\n",
    "    list = [] \n",
    "    for i in text.split():\n",
    "        list.append(ps.stem(i))\n",
    "    return \" \".join(list)"
   ]
  },
  {
   "cell_type": "code",
   "execution_count": 115,
   "metadata": {},
   "outputs": [
    {
     "name": "stderr",
     "output_type": "stream",
     "text": [
      "C:\\Users\\gites\\AppData\\Local\\Temp\\ipykernel_15924\\2814371920.py:1: SettingWithCopyWarning: \n",
      "A value is trying to be set on a copy of a slice from a DataFrame.\n",
      "Try using .loc[row_indexer,col_indexer] = value instead\n",
      "\n",
      "See the caveats in the documentation: https://pandas.pydata.org/pandas-docs/stable/user_guide/indexing.html#returning-a-view-versus-a-copy\n",
      "  df['tags'] = df['tags'].apply(stems)\n"
     ]
    }
   ],
   "source": [
    "df['tags'] = df['tags'].apply(stems)"
   ]
  },
  {
   "cell_type": "code",
   "execution_count": 116,
   "metadata": {},
   "outputs": [
    {
     "data": {
      "text/plain": [
       "'span the year 1945 to 1955, a chronicl of the fiction italian-american corleon crime family. when organ crime famili patriarch, vito corleon bare surviv an attempt on hi life, hi youngest son, michael step in to take care of the would-b killers, launch a campaign of bloodi revenge. drama crime itali lossoflovedon loveatfirstsight basedonnovelorbook europ symbol patriarch organizedcrim mafia lawyer religion revengemot crimefamili sicilianmafia religioushypocrisi gunviol risetopow deadhors gangviol 1940 1950 mafiawar partoftrilog marlonbrando alpacino jamescaan francisfordcoppola'"
      ]
     },
     "execution_count": 116,
     "metadata": {},
     "output_type": "execute_result"
    }
   ],
   "source": [
    "df.iloc[0]['tags']"
   ]
  },
  {
   "cell_type": "code",
   "execution_count": 117,
   "metadata": {},
   "outputs": [],
   "source": [
    "## max_features=5000:\n",
    "## This limits the number of features (i.e., words or tokens) that will be extracted from the text to the 5000 most frequent words.\n",
    "## If there are more than 5000 unique words in the corpus, only the top 5000 most frequent words will be considered. This is useful for reducing dimensionality and focusing on the most important words in the text data.\n",
    "## This tells the CountVectorizer to ignore common English stop words (such as \"the\", \"is\", \"and\", etc.) during the tokenization process.\n",
    "\n",
    "from sklearn.feature_extraction.text import CountVectorizer\n",
    "cv = CountVectorizer(max_features=5000,stop_words='english')"
   ]
  },
  {
   "cell_type": "code",
   "execution_count": 118,
   "metadata": {},
   "outputs": [
    {
     "data": {
      "text/plain": [
       "(10704, 5000)"
      ]
     },
     "execution_count": 118,
     "metadata": {},
     "output_type": "execute_result"
    }
   ],
   "source": [
    "## cv is an instance of CountVectorizer that has been set up to process text data by:\n",
    "## Limiting to the 5000 most frequent words (due to max_features=5000).\n",
    "## Removing common English stop words (due to stop_words='english').\n",
    "vector = cv.fit_transform(df['tags']).toarray()\n",
    "vector.shape"
   ]
  },
  {
   "cell_type": "code",
   "execution_count": 119,
   "metadata": {},
   "outputs": [
    {
     "data": {
      "text/plain": [
       "array([[1.        , 0.24759378, 0.3885596 , ..., 0.13295815, 0.08808303,\n",
       "        0.08808303],\n",
       "       [0.24759378, 1.        , 0.07749843, ..., 0.23866719, 0.02635231,\n",
       "        0.02635231],\n",
       "       [0.3885596 , 0.07749843, 1.        , ..., 0.        , 0.07352146,\n",
       "        0.07352146],\n",
       "       ...,\n",
       "       [0.13295815, 0.23866719, 0.        , ..., 1.        , 0.        ,\n",
       "        0.        ],\n",
       "       [0.08808303, 0.02635231, 0.07352146, ..., 0.        , 1.        ,\n",
       "        0.95      ],\n",
       "       [0.08808303, 0.02635231, 0.07352146, ..., 0.        , 0.95      ,\n",
       "        1.        ]])"
      ]
     },
     "execution_count": 119,
     "metadata": {},
     "output_type": "execute_result"
    }
   ],
   "source": [
    "from sklearn.metrics.pairwise import cosine_similarity\n",
    "similarity = cosine_similarity(vector)\n",
    "similarity"
   ]
  },
  {
   "cell_type": "code",
   "execution_count": 120,
   "metadata": {},
   "outputs": [
    {
     "data": {
      "text/plain": [
       "(10704, 10704)"
      ]
     },
     "execution_count": 120,
     "metadata": {},
     "output_type": "execute_result"
    }
   ],
   "source": [
    "similarity.shape"
   ]
  },
  {
   "cell_type": "code",
   "execution_count": 121,
   "metadata": {},
   "outputs": [
    {
     "data": {
      "text/plain": [
       "array([[1.        , 0.24759378, 0.3885596 , ..., 0.13295815, 0.08808303,\n",
       "        0.08808303],\n",
       "       [0.24759378, 1.        , 0.07749843, ..., 0.23866719, 0.02635231,\n",
       "        0.02635231],\n",
       "       [0.3885596 , 0.07749843, 1.        , ..., 0.        , 0.07352146,\n",
       "        0.07352146],\n",
       "       ...,\n",
       "       [0.13295815, 0.23866719, 0.        , ..., 1.        , 0.        ,\n",
       "        0.        ],\n",
       "       [0.08808303, 0.02635231, 0.07352146, ..., 0.        , 1.        ,\n",
       "        0.95      ],\n",
       "       [0.08808303, 0.02635231, 0.07352146, ..., 0.        , 0.95      ,\n",
       "        1.        ]])"
      ]
     },
     "execution_count": 121,
     "metadata": {},
     "output_type": "execute_result"
    }
   ],
   "source": [
    "from sklearn.metrics.pairwise import cosine_similarity\n",
    "similarity = cosine_similarity(vector)\n",
    "similarity"
   ]
  },
  {
   "cell_type": "code",
   "execution_count": 122,
   "metadata": {},
   "outputs": [
    {
     "data": {
      "text/plain": [
       "np.int64(2461)"
      ]
     },
     "execution_count": 122,
     "metadata": {},
     "output_type": "execute_result"
    }
   ],
   "source": [
    "df[df['title'] == 'Spider-Man'].index[0]"
   ]
  },
  {
   "cell_type": "code",
   "execution_count": 123,
   "metadata": {},
   "outputs": [],
   "source": [
    "## function to recommend movies\n",
    "def recommend(movie):\n",
    "    index = df[df['title'] == movie].index[0]\n",
    "    distances = sorted(list(enumerate(similarity[index])),reverse=True,key = lambda x: x[1])\n",
    "    for i in distances[1:6]:\n",
    "        print(df.iloc[i[0]].title)"
   ]
  },
  {
   "cell_type": "code",
   "execution_count": 124,
   "metadata": {},
   "outputs": [
    {
     "name": "stdout",
     "output_type": "stream",
     "text": [
      "Spider-Man 3\n",
      "Spider-Man: Into the Spider-Verse\n",
      "Spider-Man 2\n",
      "Spider-Man: Homecoming\n",
      "Spider-Man: No Way Home\n"
     ]
    }
   ],
   "source": [
    "recommend('Spider-Man')"
   ]
  },
  {
   "cell_type": "code",
   "execution_count": 125,
   "metadata": {},
   "outputs": [],
   "source": [
    "## Saving the data\n",
    "import pickle\n",
    "pickle.dump(df, open('Artificats/movies.pkl','wb'))\n",
    "pickle.dump(similarity, open('Artificats/similarity.pkl','wb'))"
   ]
  }
 ],
 "metadata": {
  "kernelspec": {
   "display_name": "myenv",
   "language": "python",
   "name": "python3"
  },
  "language_info": {
   "codemirror_mode": {
    "name": "ipython",
    "version": 3
   },
   "file_extension": ".py",
   "mimetype": "text/x-python",
   "name": "python",
   "nbconvert_exporter": "python",
   "pygments_lexer": "ipython3",
   "version": "3.11.10"
  }
 },
 "nbformat": 4,
 "nbformat_minor": 2
}
